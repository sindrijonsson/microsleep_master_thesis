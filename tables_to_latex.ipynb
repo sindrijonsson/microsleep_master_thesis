{
 "cells": [
  {
   "cell_type": "code",
   "execution_count": 1,
   "metadata": {},
   "outputs": [],
   "source": [
    "import pandas as pd\n",
    "import pyperclip\n",
    "import numpy as np\n",
    "\n"
   ]
  },
  {
   "attachments": {},
   "cell_type": "markdown",
   "metadata": {},
   "source": [
    "# patU-Sleep cv results"
   ]
  },
  {
   "cell_type": "code",
   "execution_count": 2,
   "metadata": {},
   "outputs": [
    {
     "name": "stdout",
     "output_type": "stream",
     "text": [
      "\\begin{longtable}{rlrrrrr}\n",
      "\\caption{Results for each fold from the 5-fold CV for finding the optimal model of post-processing and thresholding U-Sleep outputs (patU-Sleep)}\n",
      "\\label{tab:raw_cv}\\\\\n",
      "\\toprule\n",
      " Hz &         Method &  k-Fold &  Threshold &   F1 &  Precision &  Recall \\\\\n",
      "\\midrule\n",
      "\\endfirsthead\n",
      "\\caption[]{Results for each fold from the 5-fold CV for finding the optimal model of post-processing and thresholding U-Sleep outputs (patU-Sleep)} \\\\\n",
      "\\toprule\n",
      " Hz &         Method &  k-Fold &  Threshold &   F1 &  Precision &  Recall \\\\\n",
      "\\midrule\n",
      "\\endhead\n",
      "\\midrule\n",
      "\\multicolumn{7}{r}{{Continued on next page}} \\\\\n",
      "\\midrule\n",
      "\\endfoot\n",
      "\n",
      "\\bottomrule\n",
      "\\endlastfoot\n",
      "  1 &    predsArgmax &       1 &        NaN & 0.55 &       0.75 &    0.43 \\\\\n",
      "  1 &    predsArgmax &       2 &        NaN & 0.55 &       0.76 &    0.43 \\\\\n",
      "  1 &    predsArgmax &       3 &        NaN & 0.59 &       0.51 &    0.70 \\\\\n",
      "  1 &    predsArgmax &       4 &        NaN & 0.63 &       0.59 &    0.66 \\\\\n",
      "  1 &    predsArgmax &       5 &        NaN & 0.52 &       0.51 &    0.53 \\\\\n",
      "  1 &       predsMax &       1 &       0.45 & 0.47 &       0.71 &    0.35 \\\\\n",
      "  1 &       predsMax &       2 &       0.45 & 0.51 &       0.73 &    0.39 \\\\\n",
      "  1 &       predsMax &       3 &       0.42 & 0.59 &       0.53 &    0.67 \\\\\n",
      "  1 &       predsMax &       4 &       0.42 & 0.62 &       0.61 &    0.63 \\\\\n",
      "  1 &       predsMax &       5 &       0.42 & 0.49 &       0.48 &    0.51 \\\\\n",
      "  1 &       predsSum &       1 &       0.65 & 0.52 &       0.82 &    0.38 \\\\\n",
      "  1 &       predsSum &       2 &       0.65 & 0.53 &       0.84 &    0.38 \\\\\n",
      "  1 &       predsSum &       3 &       0.57 & 0.57 &       0.48 &    0.71 \\\\\n",
      "  1 &       predsSum &       4 &       0.57 & 0.62 &       0.57 &    0.68 \\\\\n",
      "  1 &       predsSum &       5 &       0.55 & 0.51 &       0.48 &    0.55 \\\\\n",
      "  8 &    predsArgmax &       1 &        NaN & 0.56 &       0.70 &    0.46 \\\\\n",
      "  8 &    predsArgmax &       2 &        NaN & 0.56 &       0.73 &    0.45 \\\\\n",
      "  8 &    predsArgmax &       3 &        NaN & 0.57 &       0.47 &    0.72 \\\\\n",
      "  8 &    predsArgmax &       4 &        NaN & 0.61 &       0.55 &    0.69 \\\\\n",
      "  8 &    predsArgmax &       5 &        NaN & 0.51 &       0.47 &    0.55 \\\\\n",
      "  8 & predsBinArgmax &       1 &        NaN & 0.52 &       0.76 &    0.39 \\\\\n",
      "  8 & predsBinArgmax &       2 &        NaN & 0.53 &       0.79 &    0.40 \\\\\n",
      "  8 & predsBinArgmax &       3 &        NaN & 0.60 &       0.54 &    0.67 \\\\\n",
      "  8 & predsBinArgmax &       4 &        NaN & 0.62 &       0.61 &    0.64 \\\\\n",
      "  8 & predsBinArgmax &       5 &        NaN & 0.53 &       0.54 &    0.52 \\\\\n",
      "  8 &    predsBinMax &       1 &       0.42 & 0.51 &       0.72 &    0.40 \\\\\n",
      "  8 &    predsBinMax &       2 &       0.42 & 0.52 &       0.74 &    0.41 \\\\\n",
      "  8 &    predsBinMax &       3 &       0.40 & 0.58 &       0.49 &    0.72 \\\\\n",
      "  8 &    predsBinMax &       4 &       0.40 & 0.62 &       0.59 &    0.66 \\\\\n",
      "  8 &    predsBinMax &       5 &       0.40 & 0.49 &       0.47 &    0.52 \\\\\n",
      "  8 &    predsBinSum &       1 &       0.68 & 0.49 &       0.82 &    0.35 \\\\\n",
      "  8 &    predsBinSum &       2 &       0.65 & 0.53 &       0.82 &    0.39 \\\\\n",
      "  8 &    predsBinSum &       3 &       0.60 & 0.56 &       0.45 &    0.71 \\\\\n",
      "  8 &    predsBinSum &       4 &       0.65 & 0.62 &       0.59 &    0.65 \\\\\n",
      "  8 &    predsBinSum &       5 &       0.60 & 0.52 &       0.48 &    0.56 \\\\\n",
      "  8 &       predsMax &       1 &       0.42 & 0.49 &       0.68 &    0.38 \\\\\n",
      "  8 &       predsMax &       2 &       0.40 & 0.52 &       0.66 &    0.43 \\\\\n",
      "  8 &       predsMax &       3 &       0.40 & 0.56 &       0.47 &    0.70 \\\\\n",
      "  8 &       predsMax &       4 &       0.40 & 0.61 &       0.58 &    0.64 \\\\\n",
      "  8 &       predsMax &       5 &       0.40 & 0.48 &       0.46 &    0.50 \\\\\n",
      "  8 &       predsSum &       1 &       0.68 & 0.50 &       0.79 &    0.37 \\\\\n",
      "  8 &       predsSum &       2 &       0.68 & 0.53 &       0.82 &    0.39 \\\\\n",
      "  8 &       predsSum &       3 &       0.60 & 0.55 &       0.45 &    0.72 \\\\\n",
      "  8 &       predsSum &       4 &       0.62 & 0.61 &       0.55 &    0.69 \\\\\n",
      "  8 &       predsSum &       5 &       0.62 & 0.53 &       0.51 &    0.55 \\\\\n",
      " 16 &    predsArgmax &       1 &        NaN & 0.59 &       0.69 &    0.51 \\\\\n",
      " 16 &    predsArgmax &       2 &        NaN & 0.58 &       0.71 &    0.48 \\\\\n",
      " 16 &    predsArgmax &       3 &        NaN & 0.53 &       0.41 &    0.75 \\\\\n",
      " 16 &    predsArgmax &       4 &        NaN & 0.59 &       0.50 &    0.73 \\\\\n",
      " 16 &    predsArgmax &       5 &        NaN & 0.48 &       0.42 &    0.57 \\\\\n",
      " 16 & predsBinArgmax &       1 &        NaN & 0.52 &       0.76 &    0.39 \\\\\n",
      " 16 & predsBinArgmax &       2 &        NaN & 0.53 &       0.78 &    0.40 \\\\\n",
      " 16 & predsBinArgmax &       3 &        NaN & 0.59 &       0.52 &    0.67 \\\\\n",
      " 16 & predsBinArgmax &       4 &        NaN & 0.62 &       0.61 &    0.63 \\\\\n",
      " 16 & predsBinArgmax &       5 &        NaN & 0.52 &       0.53 &    0.51 \\\\\n",
      " 16 &    predsBinMax &       1 &       0.45 & 0.50 &       0.77 &    0.37 \\\\\n",
      " 16 &    predsBinMax &       2 &       0.42 & 0.55 &       0.74 &    0.44 \\\\\n",
      " 16 &    predsBinMax &       3 &       0.42 & 0.58 &       0.50 &    0.70 \\\\\n",
      " 16 &    predsBinMax &       4 &       0.42 & 0.62 &       0.59 &    0.65 \\\\\n",
      " 16 &    predsBinMax &       5 &       0.42 & 0.49 &       0.49 &    0.50 \\\\\n",
      " 16 &    predsBinSum &       1 &       0.68 & 0.50 &       0.81 &    0.36 \\\\\n",
      " 16 &    predsBinSum &       2 &       0.68 & 0.52 &       0.84 &    0.38 \\\\\n",
      " 16 &    predsBinSum &       3 &       0.62 & 0.55 &       0.45 &    0.71 \\\\\n",
      " 16 &    predsBinSum &       4 &       0.62 & 0.60 &       0.53 &    0.70 \\\\\n",
      " 16 &    predsBinSum &       5 &       0.62 & 0.51 &       0.48 &    0.56 \\\\\n",
      " 16 &       predsMax &       1 &       0.42 & 0.51 &       0.68 &    0.41 \\\\\n",
      " 16 &       predsMax &       2 &       0.42 & 0.54 &       0.71 &    0.43 \\\\\n",
      " 16 &       predsMax &       3 &       0.40 & 0.54 &       0.43 &    0.74 \\\\\n",
      " 16 &       predsMax &       4 &       0.42 & 0.60 &       0.58 &    0.62 \\\\\n",
      " 16 &       predsMax &       5 &       0.42 & 0.47 &       0.46 &    0.48 \\\\\n",
      " 16 &       predsSum &       1 &       0.72 & 0.47 &       0.83 &    0.33 \\\\\n",
      " 16 &       predsSum &       2 &       0.70 & 0.54 &       0.84 &    0.39 \\\\\n",
      " 16 &       predsSum &       3 &       0.65 & 0.55 &       0.46 &    0.71 \\\\\n",
      " 16 &       predsSum &       4 &       0.68 & 0.60 &       0.55 &    0.66 \\\\\n",
      " 16 &       predsSum &       5 &       0.65 & 0.52 &       0.49 &    0.55 \\\\\n",
      " 32 &    predsArgmax &       1 &        NaN & 0.59 &       0.65 &    0.53 \\\\\n",
      " 32 &    predsArgmax &       2 &        NaN & 0.58 &       0.69 &    0.50 \\\\\n",
      " 32 &    predsArgmax &       3 &        NaN & 0.51 &       0.38 &    0.79 \\\\\n",
      " 32 &    predsArgmax &       4 &        NaN & 0.58 &       0.47 &    0.75 \\\\\n",
      " 32 &    predsArgmax &       5 &        NaN & 0.46 &       0.37 &    0.60 \\\\\n",
      " 32 & predsBinArgmax &       1 &        NaN & 0.51 &       0.75 &    0.39 \\\\\n",
      " 32 & predsBinArgmax &       2 &        NaN & 0.53 &       0.78 &    0.40 \\\\\n",
      " 32 & predsBinArgmax &       3 &        NaN & 0.58 &       0.51 &    0.67 \\\\\n",
      " 32 & predsBinArgmax &       4 &        NaN & 0.61 &       0.59 &    0.63 \\\\\n",
      " 32 & predsBinArgmax &       5 &        NaN & 0.52 &       0.52 &    0.52 \\\\\n",
      " 32 &    predsBinMax &       1 &       0.45 & 0.51 &       0.76 &    0.39 \\\\\n",
      " 32 &    predsBinMax &       2 &       0.45 & 0.53 &       0.78 &    0.40 \\\\\n",
      " 32 &    predsBinMax &       3 &       0.42 & 0.56 &       0.46 &    0.73 \\\\\n",
      " 32 &    predsBinMax &       4 &       0.42 & 0.61 &       0.55 &    0.68 \\\\\n",
      " 32 &    predsBinMax &       5 &       0.42 & 0.48 &       0.44 &    0.52 \\\\\n",
      " 32 &    predsBinSum &       1 &       0.70 & 0.46 &       0.82 &    0.32 \\\\\n",
      " 32 &    predsBinSum &       2 &       0.68 & 0.53 &       0.83 &    0.38 \\\\\n",
      " 32 &    predsBinSum &       3 &       0.62 & 0.53 &       0.41 &    0.73 \\\\\n",
      " 32 &    predsBinSum &       4 &       0.68 & 0.60 &       0.56 &    0.65 \\\\\n",
      " 32 &    predsBinSum &       5 &       0.65 & 0.51 &       0.48 &    0.55 \\\\\n",
      " 32 &       predsMax &       1 &       0.45 & 0.50 &       0.74 &    0.38 \\\\\n",
      " 32 &       predsMax &       2 &       0.45 & 0.52 &       0.75 &    0.40 \\\\\n",
      " 32 &       predsMax &       3 &       0.42 & 0.55 &       0.45 &    0.72 \\\\\n",
      " 32 &       predsMax &       4 &       0.45 & 0.60 &       0.61 &    0.59 \\\\\n",
      " 32 &       predsMax &       5 &       0.42 & 0.47 &       0.43 &    0.51 \\\\\n",
      " 32 &       predsSum &       1 &       0.72 & 0.48 &       0.82 &    0.34 \\\\\n",
      " 32 &       predsSum &       2 &       0.72 & 0.53 &       0.87 &    0.38 \\\\\n",
      " 32 &       predsSum &       3 &       0.68 & 0.55 &       0.45 &    0.70 \\\\\n",
      " 32 &       predsSum &       4 &       0.70 & 0.60 &       0.55 &    0.65 \\\\\n",
      " 32 &       predsSum &       5 &       0.68 & 0.52 &       0.49 &    0.55 \\\\\n",
      "\\end{longtable}\n",
      "\n"
     ]
    },
    {
     "name": "stderr",
     "output_type": "stream",
     "text": [
      "C:\\Users\\Sindri\\AppData\\Local\\Temp\\ipykernel_18528\\2427371689.py:10: FutureWarning: In future versions `DataFrame.to_latex` is expected to utilise the base implementation of `Styler.to_latex` for formatting and rendering. The arguments signature may therefore change. It is recommended instead to use `DataFrame.style.to_latex` which also contains additional functionality.\n",
      "  cv_raw_latex = cv_raw.to_latex(float_format=\"%.2f\", index=False,\n"
     ]
    }
   ],
   "source": [
    "file = \"Matlab/new_main_comparison/cv_usleep.csv\"\n",
    "cv_raw = pd.read_csv(file)\n",
    "cv_raw = cv_raw.drop(columns=[\"specificity\",\"accuracy\",\"fpMinutes\",\"optIdx\"])\n",
    "cv_raw = cv_raw.rename(columns={\n",
    "                \"recall\": \"Recall\", \"precision\": \"Precision\", \"f1\": \"F1\",\n",
    "                \"optThres\": \"Threshold\", \"method\": \"Method\", \"hz\": \"Hz\", \"k\": \"k-Fold\"\n",
    "                })\n",
    "cv_raw = cv_raw[reversed(cv_raw.columns.to_list())]\n",
    "cv_raw = cv_raw.sort_values([\"Hz\",\"Method\"])\n",
    "cv_raw_latex = cv_raw.to_latex(float_format=\"%.2f\", index=False,\n",
    "                               label=\"tab:raw_cv\",\n",
    "                               bold_rows=True,\n",
    "                               longtable=True,\n",
    "                               caption=\"Results for each fold from the 5-fold CV for finding the optimal model of post-processing and thresholding U-Sleep outputs (patU-Sleep)\")\n",
    "\n",
    "print(cv_raw_latex)\n",
    "pyperclip.copy(cv_raw_latex)"
   ]
  },
  {
   "cell_type": "code",
   "execution_count": 3,
   "metadata": {},
   "outputs": [
    {
     "name": "stderr",
     "output_type": "stream",
     "text": [
      "C:\\Users\\Sindri\\AppData\\Local\\Temp\\ipykernel_18528\\3896259087.py:8: FutureWarning: In future versions `DataFrame.to_latex` is expected to utilise the base implementation of `Styler.to_latex` for formatting and rendering. The arguments signature may therefore change. It is recommended instead to use `DataFrame.style.to_latex` which also contains additional functionality.\n",
      "  cv_stats_latex = cv_stats.to_latex(float_format=\"%.2f\", index=False,\n"
     ]
    },
    {
     "name": "stdout",
     "output_type": "stream",
     "text": [
      "\\begin{table}\n",
      "\\centering\n",
      "\\caption{Results from the 5-fold CV for finding the optimal model of post-processing and thresholding U-Sleep outputs (patU-Sleep).Average F1 score is reported as well as the standard error of the mean across folds.}\n",
      "\\label{tab:cv_stats}\n",
      "\\begin{tabular}{lrl}\n",
      "\\toprule\n",
      "        Method &  Hz &    F1 $\\pm$ SEM \\\\\n",
      "\\midrule\n",
      "   predsArgmax &   1 & 0.57 $\\pm$ 0.02 \\\\\n",
      "      predsMax &   1 & 0.54 $\\pm$ 0.03 \\\\\n",
      "      predsSum &   1 & 0.55 $\\pm$ 0.02 \\\\\n",
      "   predsArgmax &   8 & 0.56 $\\pm$ 0.02 \\\\\n",
      "predsBinArgmax &   8 & 0.56 $\\pm$ 0.02 \\\\\n",
      "   predsBinMax &   8 & 0.55 $\\pm$ 0.02 \\\\\n",
      "   predsBinSum &   8 & 0.54 $\\pm$ 0.02 \\\\\n",
      "      predsMax &   8 & 0.53 $\\pm$ 0.02 \\\\\n",
      "      predsSum &   8 & 0.55 $\\pm$ 0.02 \\\\\n",
      "   predsArgmax &  16 & 0.55 $\\pm$ 0.02 \\\\\n",
      "predsBinArgmax &  16 & 0.56 $\\pm$ 0.02 \\\\\n",
      "   predsBinMax &  16 & 0.55 $\\pm$ 0.02 \\\\\n",
      "   predsBinSum &  16 & 0.54 $\\pm$ 0.02 \\\\\n",
      "      predsMax &  16 & 0.53 $\\pm$ 0.02 \\\\\n",
      "      predsSum &  16 & 0.54 $\\pm$ 0.02 \\\\\n",
      "   predsArgmax &  32 & 0.54 $\\pm$ 0.03 \\\\\n",
      "predsBinArgmax &  32 & 0.55 $\\pm$ 0.02 \\\\\n",
      "   predsBinMax &  32 & 0.54 $\\pm$ 0.02 \\\\\n",
      "   predsBinSum &  32 & 0.52 $\\pm$ 0.02 \\\\\n",
      "      predsMax &  32 & 0.53 $\\pm$ 0.02 \\\\\n",
      "      predsSum &  32 & 0.54 $\\pm$ 0.02 \\\\\n",
      "\\bottomrule\n",
      "\\end{tabular}\n",
      "\\end{table}\n",
      "\n"
     ]
    }
   ],
   "source": [
    "file = \"Matlab/new_main_comparison/cv_stats.csv\"\n",
    "cv_stats = pd.read_csv(file)\n",
    "cv_stats[\"f1\"] = [f\"{f:.2f} $\\pm$ {s:.2f}\" for f, s in zip(cv_stats.mean_f1, cv_stats.sem_f1)]\n",
    "\n",
    "cv_stats = cv_stats.drop(columns=[\"GroupCount\",\"mean_f1\",\"sem_f1\"])\n",
    "cv_stats = cv_stats.rename(columns={\"f1\": \"F1 $\\pm$ SEM\", \"method\": \"Method\", \"hz\": \"Hz\"})\n",
    "cv_stats = cv_stats.sort_values([\"Hz\",\"Method\"])\n",
    "cv_stats_latex = cv_stats.to_latex(float_format=\"%.2f\", index=False,\n",
    "                               label=\"tab:cv_stats\",\n",
    "                               bold_rows=True,\n",
    "                               escape=False,\n",
    "                               caption=\"Results from the 5-fold CV for finding the optimal \"+\n",
    "                                \"model of post-processing and thresholding U-Sleep outputs (patU-Sleep).\"+\n",
    "                                \"Average F1 score is reported as well as the standard error of the mean across folds.\")\n",
    "\n",
    "print(cv_stats_latex)\n",
    "pyperclip.copy(cv_stats_latex)"
   ]
  },
  {
   "attachments": {},
   "cell_type": "markdown",
   "metadata": {},
   "source": [
    "# Test result tables"
   ]
  },
  {
   "cell_type": "code",
   "execution_count": 4,
   "metadata": {},
   "outputs": [],
   "source": [
    "\n",
    "def fix_pm(val):\n",
    "    val = val.replace(\"+/-\",\"$\\pm$\") if \"+/-\" in val else val\n",
    "    return val\n",
    "\n",
    "def bold_my_work(val):\n",
    "    return \"\\\\textbf{%s}\" % val.strip() if \"U-S\" in val else val\n",
    "\n",
    "def prep_results_for_latex(file: str):\n",
    "    # Per sample all durations\n",
    "    results = pd.read_table(file)\n",
    "    results.columns = [x.strip(\" \") for x in results.columns.to_list()]\n",
    "    results = results.applymap(fix_pm)\n",
    "    results = results.applymap(bold_my_work)\n",
    "    m = \"Model\"\n",
    "    results = results.rename(columns={\"f1\": \"F1\", \"recall\": \"Recall\", \"precision\":\"Precision\", \"model\":\"Model\"})\n",
    "    results = results[[\"Model\",\"Precision\",\"Recall\",\"F1\"]]\n",
    "    results[\" \"] = [x.strip(\" \") for x in results.Model.to_list()]\n",
    "    results[\" \"] = np.tile([\" \",\" \"],  int(results.shape[0] / 2))\n",
    "    results.index = pd.MultiIndex.from_frame(results[[m,\" \"]])\n",
    "    results = results.drop([m,\" \"], axis=1)\n",
    "    return results\n",
    "\n",
    "bold_rows = False\n"
   ]
  },
  {
   "attachments": {},
   "cell_type": "markdown",
   "metadata": {},
   "source": [
    "### All duration per sample\n"
   ]
  },
  {
   "cell_type": "code",
   "execution_count": 5,
   "metadata": {},
   "outputs": [
    {
     "name": "stdout",
     "output_type": "stream",
     "text": [
      "\\begin{table}\n",
      "\\centering\n",
      "\\caption{Performance of the classifiers evaluated on a per-sample basis on the test data. The metrics are evaluted by concatinating across recording and on a per recording basis (mean across recordings $\\pm$ standard error of the mean, $N=13$)}\n",
      "\\label{tab:all_samples}\n",
      "\\begin{tabular}{lllll}\n",
      "\\toprule\n",
      "         &   &          Precision &             Recall &                F1 \\\\\n",
      "Model &   &                    &                    &                   \\\\\n",
      "\\midrule\n",
      "\\multirow{2}{*}{\\textbf{mU-Sleep}} &   &              0.83  &              0.74  &              0.78 \\\\\n",
      "         &   &   0.63 $\\pm$ 0.11  &   0.51 $\\pm$ 0.11  &   0.53 $\\pm$ 0.11 \\\\\n",
      "\\cline{1-5}\n",
      "\\multirow{2}{*}{\\textbf{patU-Sleep}} &   &              0.54  &              0.66  &              0.59 \\\\\n",
      "         &   &   0.55 $\\pm$ 0.11  &   0.48 $\\pm$ 0.10  &   0.46 $\\pm$ 0.10 \\\\\n",
      "\\cline{1-5}\n",
      "\\multirow{2}{*}{\\textbf{mU-SSL}} &   &              0.46  &              0.88  &              0.60 \\\\\n",
      "         &   &   0.50 $\\pm$ 0.09  &   0.71 $\\pm$ 0.10  &   0.52 $\\pm$ 0.10 \\\\\n",
      "\\cline{1-5}\n",
      "\\multirow{2}{*}{FB-LSTM} &   &              0.79  &              0.79  &              0.79 \\\\\n",
      "         &   &   0.61 $\\pm$ 0.10  &   0.59 $\\pm$ 0.10  &   0.59 $\\pm$ 0.10 \\\\\n",
      "\\cline{1-5}\n",
      "\\multirow{2}{*}{FB-RF} &   &              0.53  &              0.85  &              0.66 \\\\\n",
      "         &   &   0.51 $\\pm$ 0.09  &   0.66 $\\pm$ 0.10  &   0.54 $\\pm$ 0.10 \\\\\n",
      "\\cline{1-5}\n",
      "\\multirow{2}{*}{FB-SVM} &   &              0.55  &              0.79  &              0.65 \\\\\n",
      "         &   &   0.51 $\\pm$ 0.10  &   0.60 $\\pm$ 0.09  &   0.52 $\\pm$ 0.10 \\\\\n",
      "\\cline{1-5}\n",
      "\\multirow{2}{*}{CNN-16s} &   &              0.49  &              0.94  &              0.64 \\\\\n",
      "         &   &   0.46 $\\pm$ 0.09  &   0.77 $\\pm$ 0.10  &   0.55 $\\pm$ 0.09 \\\\\n",
      "\\bottomrule\n",
      "\\end{tabular}\n",
      "\\end{table}\n",
      "\n"
     ]
    },
    {
     "name": "stderr",
     "output_type": "stream",
     "text": [
      "C:\\Users\\Sindri\\AppData\\Local\\Temp\\ipykernel_18528\\796482229.py:6: FutureWarning: In future versions `DataFrame.to_latex` is expected to utilise the base implementation of `Styler.to_latex` for formatting and rendering. The arguments signature may therefore change. It is recommended instead to use `DataFrame.style.to_latex` which also contains additional functionality.\n",
      "  samp_all_latex = samp_all.to_latex(multirow=True, index=True, escape=False,\n"
     ]
    }
   ],
   "source": [
    "\n",
    "samp_caption = (\"Performance of the classifiers evaluated on a per-sample basis on the test data. \" +\n",
    "                \"The metrics are evaluted by concatinating across recording and on a per recording basis \"+\n",
    "                \"(mean across recordings $\\pm$ standard error of the mean, $N=13$)\")\n",
    "\n",
    "samp_all = prep_results_for_latex(\"Matlab/new_main_comparison/sample.txt\")\n",
    "samp_all_latex = samp_all.to_latex(multirow=True, index=True, escape=False,\n",
    "                                 label=\"tab:all_samples\",\n",
    "                                caption=samp_caption,\n",
    "                                 bold_rows=bold_rows)\n",
    "print(samp_all_latex)\n",
    "pyperclip.copy(samp_all_latex)"
   ]
  },
  {
   "cell_type": "code",
   "execution_count": null,
   "metadata": {},
   "outputs": [],
   "source": []
  },
  {
   "cell_type": "markdown",
   "metadata": {},
   "source": [
    "## All duration per event\n"
   ]
  },
  {
   "cell_type": "code",
   "execution_count": 6,
   "metadata": {},
   "outputs": [
    {
     "name": "stdout",
     "output_type": "stream",
     "text": [
      "\\begin{table}\n",
      "\\centering\n",
      "\\caption{Performance of the classifiers evaluated on a per-event basis on the test data. The metrics are evaluted by concatenating across recording and on a per recording basis (mean across recordings $\\pm$ standard error of the mean, $N=13$)}\n",
      "\\label{tab:all_events}\n",
      "\\begin{tabular}{lllll}\n",
      "\\toprule\n",
      "         &   &         Precision &             Recall &                F1 \\\\\n",
      "Model &   &                   &                    &                   \\\\\n",
      "\\midrule\n",
      "\\multirow{2}{*}{\\textbf{mU-Sleep}} &   &             0.74  &              0.59  &              0.66 \\\\\n",
      "         &   &  0.81 $\\pm$ 0.05  &   0.66 $\\pm$ 0.10  &   0.68 $\\pm$ 0.09 \\\\\n",
      "\\cline{1-5}\n",
      "\\multirow{2}{*}{\\textbf{patU-Sleep}} &   &             0.28  &              0.63  &              0.38 \\\\\n",
      "         &   &  0.65 $\\pm$ 0.10  &   0.56 $\\pm$ 0.09  &   0.55 $\\pm$ 0.10 \\\\\n",
      "\\cline{1-5}\n",
      "\\multirow{2}{*}{\\textbf{mU-SSL}} &   &             0.29  &              0.72  &              0.42 \\\\\n",
      "         &   &  0.54 $\\pm$ 0.09  &   0.77 $\\pm$ 0.09  &   0.56 $\\pm$ 0.09 \\\\\n",
      "\\cline{1-5}\n",
      "\\multirow{2}{*}{FB-LSTM} &   &             0.74  &              0.71  &              0.72 \\\\\n",
      "         &   &  0.72 $\\pm$ 0.08  &   0.70 $\\pm$ 0.09  &   0.69 $\\pm$ 0.08 \\\\\n",
      "\\cline{1-5}\n",
      "\\multirow{2}{*}{FB-RF} &   &             0.40  &              0.65  &              0.49 \\\\\n",
      "         &   &  0.56 $\\pm$ 0.09  &   0.71 $\\pm$ 0.09  &   0.58 $\\pm$ 0.09 \\\\\n",
      "\\cline{1-5}\n",
      "\\multirow{2}{*}{FB-SVM} &   &             0.38  &              0.63  &              0.47 \\\\\n",
      "         &   &  0.60 $\\pm$ 0.10  &   0.71 $\\pm$ 0.07  &   0.61 $\\pm$ 0.09 \\\\\n",
      "\\cline{1-5}\n",
      "\\multirow{2}{*}{CNN-16s} &   &             0.36  &              0.85  &              0.51 \\\\\n",
      "         &   &  0.50 $\\pm$ 0.08  &   0.83 $\\pm$ 0.08  &   0.60 $\\pm$ 0.09 \\\\\n",
      "\\bottomrule\n",
      "\\end{tabular}\n",
      "\\end{table}\n",
      "\n"
     ]
    },
    {
     "name": "stderr",
     "output_type": "stream",
     "text": [
      "C:\\Users\\Sindri\\AppData\\Local\\Temp\\ipykernel_18528\\2331690578.py:6: FutureWarning: In future versions `DataFrame.to_latex` is expected to utilise the base implementation of `Styler.to_latex` for formatting and rendering. The arguments signature may therefore change. It is recommended instead to use `DataFrame.style.to_latex` which also contains additional functionality.\n",
      "  event_all_latex = event_all.to_latex(multirow=True, index=True, escape=False,\n"
     ]
    }
   ],
   "source": [
    "\n",
    "event_caption = (\"Performance of the classifiers evaluated on a per-event basis on the test data. \" +\n",
    "                \"The metrics are evaluted by concatenating across recording and on a per recording basis \"+\n",
    "                \"(mean across recordings $\\pm$ standard error of the mean, $N=13$)\")\n",
    "\n",
    "event_all = prep_results_for_latex(\"Matlab/new_main_comparison/event.txt\")\n",
    "event_all_latex = event_all.to_latex(multirow=True, index=True, escape=False,\n",
    "                                 label=\"tab:all_events\",\n",
    "                                 caption=event_caption,\n",
    "                                 bold_rows=bold_rows)\n",
    "print(event_all_latex)\n",
    "pyperclip.copy(event_all_latex)"
   ]
  },
  {
   "cell_type": "code",
   "execution_count": 7,
   "metadata": {},
   "outputs": [
    {
     "name": "stdout",
     "output_type": "stream",
     "text": [
      "\\begin{table}\n",
      "\\centering\n",
      "\\caption{test}\n",
      "\\label{tab:test}\n",
      "\\begin{tabular}{llllllll}\n",
      "\\toprule\n",
      "         &   & \\multicolumn{3}{l}{Sample} & \\multicolumn{3}{l}{Event} \\\\\n",
      "         &   &          Precision &             Recall &                F1 &         Precision &             Recall &                F1 \\\\\n",
      "Model &   &                    &                    &                   &                   &                    &                   \\\\\n",
      "\\midrule\n",
      "\\multirow{2}{*}{\\textbf{mU-Sleep}} &   &              0.83  &              0.74  &              0.78 &             0.74  &              0.59  &              0.66 \\\\\n",
      "         &   &   0.63 $\\pm$ 0.11  &   0.51 $\\pm$ 0.11  &   0.53 $\\pm$ 0.11 &  0.81 $\\pm$ 0.05  &   0.66 $\\pm$ 0.10  &   0.68 $\\pm$ 0.09 \\\\\n",
      "\\cline{1-8}\n",
      "\\multirow{2}{*}{\\textbf{patU-Sleep}} &   &              0.54  &              0.66  &              0.59 &             0.28  &              0.63  &              0.38 \\\\\n",
      "         &   &   0.55 $\\pm$ 0.11  &   0.48 $\\pm$ 0.10  &   0.46 $\\pm$ 0.10 &  0.65 $\\pm$ 0.10  &   0.56 $\\pm$ 0.09  &   0.55 $\\pm$ 0.10 \\\\\n",
      "\\cline{1-8}\n",
      "\\multirow{2}{*}{\\textbf{mU-SSL}} &   &              0.46  &              0.88  &              0.60 &             0.29  &              0.72  &              0.42 \\\\\n",
      "         &   &   0.50 $\\pm$ 0.09  &   0.71 $\\pm$ 0.10  &   0.52 $\\pm$ 0.10 &  0.54 $\\pm$ 0.09  &   0.77 $\\pm$ 0.09  &   0.56 $\\pm$ 0.09 \\\\\n",
      "\\cline{1-8}\n",
      "\\multirow{2}{*}{FB-LSTM} &   &              0.79  &              0.79  &              0.79 &             0.74  &              0.71  &              0.72 \\\\\n",
      "         &   &   0.61 $\\pm$ 0.10  &   0.59 $\\pm$ 0.10  &   0.59 $\\pm$ 0.10 &  0.72 $\\pm$ 0.08  &   0.70 $\\pm$ 0.09  &   0.69 $\\pm$ 0.08 \\\\\n",
      "\\cline{1-8}\n",
      "\\multirow{2}{*}{FB-RF} &   &              0.53  &              0.85  &              0.66 &             0.40  &              0.65  &              0.49 \\\\\n",
      "         &   &   0.51 $\\pm$ 0.09  &   0.66 $\\pm$ 0.10  &   0.54 $\\pm$ 0.10 &  0.56 $\\pm$ 0.09  &   0.71 $\\pm$ 0.09  &   0.58 $\\pm$ 0.09 \\\\\n",
      "\\cline{1-8}\n",
      "\\multirow{2}{*}{FB-SVM} &   &              0.55  &              0.79  &              0.65 &             0.38  &              0.63  &              0.47 \\\\\n",
      "         &   &   0.51 $\\pm$ 0.10  &   0.60 $\\pm$ 0.09  &   0.52 $\\pm$ 0.10 &  0.60 $\\pm$ 0.10  &   0.71 $\\pm$ 0.07  &   0.61 $\\pm$ 0.09 \\\\\n",
      "\\cline{1-8}\n",
      "\\multirow{2}{*}{CNN-16s} &   &              0.49  &              0.94  &              0.64 &             0.36  &              0.85  &              0.51 \\\\\n",
      "         &   &   0.46 $\\pm$ 0.09  &   0.77 $\\pm$ 0.10  &   0.55 $\\pm$ 0.09 &  0.50 $\\pm$ 0.08  &   0.83 $\\pm$ 0.08  &   0.60 $\\pm$ 0.09 \\\\\n",
      "\\bottomrule\n",
      "\\end{tabular}\n",
      "\\end{table}\n",
      "\n"
     ]
    },
    {
     "name": "stderr",
     "output_type": "stream",
     "text": [
      "C:\\Users\\Sindri\\AppData\\Local\\Temp\\ipykernel_18528\\534660432.py:6: FutureWarning: In future versions `DataFrame.to_latex` is expected to utilise the base implementation of `Styler.to_latex` for formatting and rendering. The arguments signature may therefore change. It is recommended instead to use `DataFrame.style.to_latex` which also contains additional functionality.\n",
      "  df_latex = df.to_latex(multirow=True, index=True, escape=False, multicolumn=True,\n"
     ]
    }
   ],
   "source": [
    "# Merge?\n",
    "col = pd.MultiIndex.from_arrays([np.repeat([\"Sample\",\"Event\"],3).tolist(),\n",
    "                                [*samp_all.columns.to_list(), *event_all.columns.to_list()]])\n",
    "df = pd.concat([samp_all, event_all], axis=1)\n",
    "df.columns = col\n",
    "df_latex = df.to_latex(multirow=True, index=True, escape=False, multicolumn=True,\n",
    "                                 label=\"tab:test\",\n",
    "                                 caption=\"test\",\n",
    "                                 bold_rows=bold_rows)\n",
    "print(df_latex)"
   ]
  },
  {
   "attachments": {},
   "cell_type": "markdown",
   "metadata": {},
   "source": [
    "## Limited duration per sample\n"
   ]
  },
  {
   "cell_type": "code",
   "execution_count": 8,
   "metadata": {},
   "outputs": [
    {
     "name": "stdout",
     "output_type": "stream",
     "text": [
      "\\begin{table}\n",
      "\\centering\n",
      "\\caption{Performance of the classifiers evaluated on a per-sample basis on the test data only considering predictions and target labels within $3-15$ seconds. Predictions and target labels not within $3-15$ seconds were discarded. The metrics are evaluted by concatinating across recordings and on a per recording basis (mean across recordings $\\pm$ standard error of the mean, $N=13$)}\n",
      "\\label{tab:limited_samples}\n",
      "\\begin{tabular}{lllll}\n",
      "\\toprule\n",
      "         &   &          Precision &             Recall &                F1 \\\\\n",
      "Model &   &                    &                    &                   \\\\\n",
      "\\midrule\n",
      "\\multirow{2}{*}{\\textbf{mU-Sleep}} &   &              0.61  &              0.41  &              0.49 \\\\\n",
      "         &   &   0.44 $\\pm$ 0.09  &   0.33 $\\pm$ 0.07  &   0.36 $\\pm$ 0.08 \\\\\n",
      "\\cline{1-5}\n",
      "\\multirow{2}{*}{\\textbf{patU-Sleep}} &   &              0.27  &              0.23  &              0.24 \\\\\n",
      "         &   &   0.35 $\\pm$ 0.10  &   0.24 $\\pm$ 0.07  &   0.23 $\\pm$ 0.07 \\\\\n",
      "\\cline{1-5}\n",
      "\\multirow{2}{*}{\\textbf{mU-SSL}} &   &              0.26  &              0.55  &              0.35 \\\\\n",
      "         &   &   0.37 $\\pm$ 0.08  &   0.56 $\\pm$ 0.09  &   0.38 $\\pm$ 0.07 \\\\\n",
      "\\cline{1-5}\n",
      "\\multirow{2}{*}{FB-LSTM} &   &              0.58  &              0.58  &              0.58 \\\\\n",
      "         &   &   0.50 $\\pm$ 0.08  &   0.47 $\\pm$ 0.08  &   0.47 $\\pm$ 0.08 \\\\\n",
      "\\cline{1-5}\n",
      "\\multirow{2}{*}{FB-RF} &   &              0.32  &              0.57  &              0.41 \\\\\n",
      "         &   &   0.35 $\\pm$ 0.08  &   0.44 $\\pm$ 0.08  &   0.35 $\\pm$ 0.07 \\\\\n",
      "\\cline{1-5}\n",
      "\\multirow{2}{*}{FB-SVM} &   &              0.29  &              0.53  &              0.38 \\\\\n",
      "         &   &   0.32 $\\pm$ 0.09  &   0.39 $\\pm$ 0.08  &   0.31 $\\pm$ 0.07 \\\\\n",
      "\\cline{1-5}\n",
      "\\multirow{2}{*}{CNN-16s} &   &              0.25  &              0.77  &              0.38 \\\\\n",
      "         &   &   0.27 $\\pm$ 0.05  &   0.67 $\\pm$ 0.09  &   0.36 $\\pm$ 0.06 \\\\\n",
      "\\bottomrule\n",
      "\\end{tabular}\n",
      "\\end{table}\n",
      "\n"
     ]
    },
    {
     "name": "stderr",
     "output_type": "stream",
     "text": [
      "C:\\Users\\Sindri\\AppData\\Local\\Temp\\ipykernel_18528\\1734763127.py:8: FutureWarning: In future versions `DataFrame.to_latex` is expected to utilise the base implementation of `Styler.to_latex` for formatting and rendering. The arguments signature may therefore change. It is recommended instead to use `DataFrame.style.to_latex` which also contains additional functionality.\n",
      "  limited_samp_latex = limited_samp.to_latex(multirow=True, index=True, escape=False,\n"
     ]
    }
   ],
   "source": [
    "\n",
    "limited_samp_caption = (\"Performance of the classifiers evaluated on a per-sample basis on the test data \" +\n",
    "                \"only considering predictions and target labels within $3-15$ seconds. \"+\n",
    "                \"Predictions and target labels not within $3-15$ seconds were discarded. \"+ \n",
    "                \"The metrics are evaluted by concatinating across recordings and on a per recording basis \"+\n",
    "                \"(mean across recordings $\\pm$ standard error of the mean, $N=13$)\")\n",
    "\n",
    "limited_samp = prep_results_for_latex(\"Matlab/new_main_comparison/alt_sample.txt\")\n",
    "limited_samp_latex = limited_samp.to_latex(multirow=True, index=True, escape=False,\n",
    "                                 label=\"tab:limited_samples\",\n",
    "                                 caption=limited_samp_caption,\n",
    "                                 bold_rows=bold_rows)\n",
    "print(limited_samp_latex)\n",
    "pyperclip.copy(limited_samp_latex)"
   ]
  },
  {
   "cell_type": "markdown",
   "metadata": {},
   "source": [
    "## Limited duration per event"
   ]
  },
  {
   "cell_type": "code",
   "execution_count": 9,
   "metadata": {},
   "outputs": [
    {
     "name": "stdout",
     "output_type": "stream",
     "text": [
      "\\begin{table}\n",
      "\\centering\n",
      "\\caption{Performance of the classifiers evaluated on a per-event basis on the test data only considering predictions and target labels within $3-15$ seconds. Predictions and target labels not within $3-15$ seconds were discarded. The metrics are evaluted by concatinating across recordings and on a per recording basis (mean across recordings $\\pm$ standard error of the mean, $N=13$)}\n",
      "\\label{tab:limited_events}\n",
      "\\begin{tabular}{lllll}\n",
      "\\toprule\n",
      "         &   &         Precision &             Recall &                F1 \\\\\n",
      "Model &   &                   &                    &                   \\\\\n",
      "\\midrule\n",
      "\\multirow{2}{*}{\\textbf{mU-Sleep}} &   &             0.60  &              0.38  &              0.47 \\\\\n",
      "         &   &  0.59 $\\pm$ 0.07  &   0.41 $\\pm$ 0.06  &   0.47 $\\pm$ 0.05 \\\\\n",
      "\\cline{1-5}\n",
      "\\multirow{2}{*}{\\textbf{patU-Sleep}} &   &             0.25  &              0.26  &              0.25 \\\\\n",
      "         &   &  0.44 $\\pm$ 0.10  &   0.37 $\\pm$ 0.08  &   0.34 $\\pm$ 0.07 \\\\\n",
      "\\cline{1-5}\n",
      "\\multirow{2}{*}{\\textbf{mU-SSL}} &   &             0.30  &              0.33  &              0.31 \\\\\n",
      "         &   &  0.49 $\\pm$ 0.07  &   0.32 $\\pm$ 0.05  &   0.33 $\\pm$ 0.04 \\\\\n",
      "\\cline{1-5}\n",
      "\\multirow{2}{*}{FB-LSTM} &   &             0.58  &              0.56  &              0.57 \\\\\n",
      "         &   &  0.56 $\\pm$ 0.07  &   0.52 $\\pm$ 0.06  &   0.53 $\\pm$ 0.05 \\\\\n",
      "\\cline{1-5}\n",
      "\\multirow{2}{*}{FB-RF} &   &             0.39  &              0.42  &              0.40 \\\\\n",
      "         &   &  0.61 $\\pm$ 0.09  &   0.43 $\\pm$ 0.05  &   0.46 $\\pm$ 0.05 \\\\\n",
      "\\cline{1-5}\n",
      "\\multirow{2}{*}{FB-SVM} &   &             0.33  &              0.43  &              0.37 \\\\\n",
      "         &   &  0.45 $\\pm$ 0.10  &   0.45 $\\pm$ 0.07  &   0.41 $\\pm$ 0.07 \\\\\n",
      "\\cline{1-5}\n",
      "\\multirow{2}{*}{CNN-16s} &   &             0.32  &              0.45  &              0.37 \\\\\n",
      "         &   &  0.37 $\\pm$ 0.06  &   0.37 $\\pm$ 0.07  &   0.35 $\\pm$ 0.06 \\\\\n",
      "\\bottomrule\n",
      "\\end{tabular}\n",
      "\\end{table}\n",
      "\n"
     ]
    },
    {
     "name": "stderr",
     "output_type": "stream",
     "text": [
      "C:\\Users\\Sindri\\AppData\\Local\\Temp\\ipykernel_18528\\4083046733.py:8: FutureWarning: In future versions `DataFrame.to_latex` is expected to utilise the base implementation of `Styler.to_latex` for formatting and rendering. The arguments signature may therefore change. It is recommended instead to use `DataFrame.style.to_latex` which also contains additional functionality.\n",
      "  limited_event_latex = limited_event.to_latex(multirow=True, index=True, escape=False,\n"
     ]
    }
   ],
   "source": [
    "\n",
    "limited_event_caption = (\"Performance of the classifiers evaluated on a per-event basis on the test data \" +\n",
    "                \"only considering predictions and target labels within $3-15$ seconds. \"+\n",
    "                \"Predictions and target labels not within $3-15$ seconds were discarded. \"+ \n",
    "                \"The metrics are evaluted by concatinating across recordings and on a per recording basis \"+\n",
    "                \"(mean across recordings $\\pm$ standard error of the mean, $N=13$)\")\n",
    "\n",
    "limited_event = prep_results_for_latex(\"Matlab/new_main_comparison/alt_event.txt\")\n",
    "limited_event_latex = limited_event.to_latex(multirow=True, index=True, escape=False,\n",
    "                                 label=\"tab:limited_events\",\n",
    "                                 caption=limited_event_caption,\n",
    "                                 bold_rows=bold_rows)\n",
    "print(limited_event_latex)\n",
    "pyperclip.copy(limited_event_latex)"
   ]
  }
 ],
 "metadata": {
  "kernelspec": {
   "display_name": "u-sleep",
   "language": "python",
   "name": "python3"
  },
  "language_info": {
   "codemirror_mode": {
    "name": "ipython",
    "version": 3
   },
   "file_extension": ".py",
   "mimetype": "text/x-python",
   "name": "python",
   "nbconvert_exporter": "python",
   "pygments_lexer": "ipython3",
   "version": "3.10.4"
  },
  "orig_nbformat": 4,
  "vscode": {
   "interpreter": {
    "hash": "c8e95707acf1fc7af41c9420274be1f4b282295d5d7ada269f0cddd16fb8c714"
   }
  }
 },
 "nbformat": 4,
 "nbformat_minor": 2
}
