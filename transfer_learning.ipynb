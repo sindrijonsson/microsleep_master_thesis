{
 "cells": [
  {
   "cell_type": "code",
   "execution_count": 1,
   "id": "cc077d78",
   "metadata": {},
   "outputs": [],
   "source": [
    "import numpy as np\n",
    "import os\n",
    "import usleep\n",
    "import typing\n",
    "\n",
    "from IPython.display import clear_output"
   ]
  },
  {
   "cell_type": "code",
   "execution_count": 2,
   "id": "0f070a02",
   "metadata": {},
   "outputs": [],
   "source": [
    "# ARGS\n",
    "\n",
    "class ARGS(object):\n",
    "    def __init__(self, file, data_per_prediction: int = 128):\n",
    "        self.f = os.path.abspath(file) if not os.path.isabs(file) else file\n",
    "        self.o = self.f.replace(\".edf\",\".npy\")\n",
    "        self.logging_out_path = self.f.replace(\".edf\",\".log\")\n",
    "        \n",
    "        self.auto_channel_grouping =  ['EOG', 'EEG']\n",
    "        self.auto_reference_types  =  None\n",
    "        self.channels              =  ['O1-M2==EEG', 'O2-M1==EEG', 'E1-M1==EOG', 'E2-M1==EOG']\n",
    "        self.data_per_prediction   =  128\n",
    "        self.force_gpus            =  ''\n",
    "        self.header_file_name      =  None\n",
    "        self.model                 =  'u-sleep:1.0'\n",
    "        self.no_argmax             =  True\n",
    "        self.num_gpus              =  0\n",
    "        self.overwrite             =  True\n",
    "        self.project_dir           =  usleep.get_model_path(model_name=self.model.split(\":\")[0], model_version=self.model.split(\":\")[-1])\n",
    "        self.strip_func            =  'trim_psg_trailing'\n",
    "        self.weights_file_name     =  None"
   ]
  },
  {
   "cell_type": "code",
   "execution_count": 3,
   "id": "95a5a2ab",
   "metadata": {},
   "outputs": [],
   "source": [
    "from utime import Defaults\n",
    "from utime.hyperparameters import YAMLHParams\n",
    "\n",
    "# Load arguments and hyperparamets\n",
    "args = ARGS(file=\"edf_data/9JQY.edf\", data_per_prediction=128)\n",
    "hparams = YAMLHParams(Defaults.get_hparams_path(args.project_dir), no_version_control=True)\n"
   ]
  },
  {
   "cell_type": "code",
   "execution_count": 4,
   "id": "59dd367c",
   "metadata": {},
   "outputs": [],
   "source": [
    "from psg_utils.dataset.sleep_study import SleepStudy\n",
    "from utime.bin.predict_one import get_sleep_study\n",
    "\n",
    "def get_and_load_study(file, args: ARGS, hparams: YAMLHParams) -> SleepStudy:\n",
    "\n",
    "    # Get the sleep study\n",
    "    print(f\"Loading and pre-processing PSG file {file}...\")\n",
    "    hparams['prediction_params']['channels'] = args.channels\n",
    "    hparams['prediction_params']['strip_func']['strip_func_str'] = args.strip_func\n",
    "\n",
    "    study, channel_groups = get_sleep_study(psg_path=file,\n",
    "                                            header_file_name=args.header_file_name,\n",
    "                                            auto_channel_grouping=args.auto_channel_grouping,\n",
    "                                            auto_reference_types=args.auto_reference_types,\n",
    "                                            **hparams['prediction_params'])\n",
    "    \n",
    "    study.channel_groups = channel_groups\n",
    "\n",
    "    return study"
   ]
  },
  {
   "cell_type": "markdown",
   "id": "c54fddeb",
   "metadata": {},
   "source": [
    "## Initialize model to train\n"
   ]
  },
  {
   "cell_type": "code",
   "execution_count": 5,
   "id": "0cb7d44d",
   "metadata": {},
   "outputs": [
    {
     "name": "stdout",
     "output_type": "stream",
     "text": [
      "Input shape: (None, 19, 3840, 2)\n",
      "Output shape: (None, 19, 30, 2)\n",
      "Model trainable: True\n",
      "\t sequence_conv_out_1/kernel:0: ((1, 1, 6, 2))\n",
      "\t sequence_conv_out_1/bias:0: ((2,))\n",
      "\t sequence_conv_out_2/kernel:0: ((1, 1, 2, 2))\n",
      "\t sequence_conv_out_2/bias:0: ((2,))\n",
      "Model: \"mU-Sleep\"\n",
      "_________________________________________________________________\n",
      " Layer (type)                Output Shape              Param #   \n",
      "=================================================================\n",
      " input_1 (InputLayer)        [(None, 19, 3840, 2)]     0         \n",
      "                                                                 \n",
      " uSleep_base (Functional)    (None, 72960, 1, 6)       3119286   \n",
      "                                                                 \n",
      " average_pool (AveragePoolin  (None, 570, 1, 6)        0         \n",
      " g2D)                                                            \n",
      "                                                                 \n",
      " sequence_conv_out_1 (Conv2D  (None, 570, 1, 2)        14        \n",
      " )                                                               \n",
      "                                                                 \n",
      " sequence_conv_out_2 (Conv2D  (None, 570, 1, 2)        6         \n",
      " )                                                               \n",
      "                                                                 \n",
      " output_reshape (OutputResha  (None, 19, 30, 2)        0         \n",
      " pe)                                                             \n",
      "                                                                 \n",
      "=================================================================\n",
      "Total params: 3,119,306\n",
      "Trainable params: 20\n",
      "Non-trainable params: 3,119,286\n",
      "_________________________________________________________________\n"
     ]
    }
   ],
   "source": [
    "from utime.bin.evaluate import get_and_load_model, get_and_load_one_shot_model\n",
    "from keras import Model\n",
    "from keras.layers import Input\n",
    "\n",
    "# Initialize model to train\n",
    "hparams = YAMLHParams(Defaults.get_hparams_path(args.project_dir), no_version_control=True)\n",
    "hparams['build']['batch_shape'] = [64, 19, 3840, 2]\n",
    "\n",
    "base = get_and_load_model(\n",
    "            project_dir=args.project_dir,\n",
    "            hparams=hparams,\n",
    "            weights_file_name=hparams.get('weights_file_name')\n",
    "        )\n",
    "clear_output(wait=False)    # Removing glorot intitialization warning...\n",
    "\n",
    "# Freeze base layers\n",
    "base.trainable = False\n",
    "\n",
    "base.layers[-5].trainable = True\n",
    "\n",
    "# Extract base from pre-trained model (remove last )\n",
    "inter_base = Model(inputs=base.input, outputs=base.layers[-5].output, name=\"uSleep_base\")\n",
    "inter_out = inter_base(inputs=base.input, training=False)\n",
    "\n",
    "# Create new head with base model as input with a 2-class problem\n",
    "head=base.create_seq_modeling(in_=inter_out,\n",
    "                            input_dims = base.input_dims,\n",
    "                            data_per_period=args.data_per_prediction,\n",
    "                            n_periods=base.n_periods,\n",
    "                            n_classes=2,\n",
    "                            transition_window=base.transition_window,\n",
    "                            activation=base.activation,\n",
    "                            regularizer=None)\n",
    "\n",
    "\n",
    "model = Model(inputs=base.input, outputs = head, name = \"mU-Sleep\")\n",
    "\n",
    "print(f\"Input shape: {model.input.shape}\")\n",
    "print(f\"Output shape: {model.output.shape}\")\n",
    "print(f\"Model trainable: {model.trainable}\")\n",
    "_=[print(f\"\\t {x.name}: ({x.shape})\") for x in model.trainable_weights]\n",
    "model.summary()\n"
   ]
  },
  {
   "cell_type": "code",
   "execution_count": 6,
   "id": "2db905f8",
   "metadata": {},
   "outputs": [],
   "source": [
    "import json\n",
    "\n",
    "# Load some random subjects from train splits\n",
    "with open(\"./splits/skorucack_splits.json\") as f:\n",
    "    splits = json.loads(f.read())\n",
    "\n",
    "\n",
    "dev_studies = [get_and_load_study(f\"edf_data/{x}.edf\", args, hparams) for x in splits['train']]\n",
    "test_studies = [get_and_load_study(f\"edf_data/{x}.edf\", args, hparams) for x in splits['test']]\n",
    "clear_output(wait=False)"
   ]
  },
  {
   "cell_type": "code",
   "execution_count": 7,
   "id": "7f313789",
   "metadata": {},
   "outputs": [
    {
     "name": "stdout",
     "output_type": "stream",
     "text": [
      "(None, 19, 3840, 2)\n",
      "(None, 19, 30, 2)\n",
      "(80, 3840, 4)\n",
      "(80, 30, 2)\n"
     ]
    }
   ],
   "source": [
    "# Let's add some random labels to the studies (for now)\n",
    "from tensorflow import keras\n",
    "from keras.utils.np_utils import to_categorical\n",
    "from scipy.io import loadmat\n",
    "\n",
    "\n",
    "for study in dev_studies:\n",
    "    psg_shape = study.get_all_periods().shape\n",
    "    _y = loadmat(study.psg_file_path.replace(\".edf\",\"_new.mat\"), squeeze_me=True)['x']\n",
    "    _y[np.where(_y != 1)[0]] = 0\n",
    "    _y = to_categorical(_y, num_classes = 2)\n",
    "    study.y = np.reshape(_y, [psg_shape[0], int(psg_shape[1] / study.sample_rate) , 2])\n",
    "    \n",
    "for study in test_studies:\n",
    "    psg_shape = study.get_all_periods().shape\n",
    "    _y = loadmat(study.psg_file_path.replace(\".edf\",\"_new.mat\"), squeeze_me=True)['x']\n",
    "    _y[np.where(_y != 1)[0]] = 0\n",
    "    _y = to_categorical(_y, num_classes = 2)\n",
    "    study.y = np.reshape(_y, [psg_shape[0], int(psg_shape[1] / study.sample_rate) , 2])\n",
    "    \n",
    "\n",
    "print(model.input.shape)\n",
    "print(model.layers[-1].output.shape)\n",
    "print(dev_studies[0].get_all_periods().shape)\n",
    "print(dev_studies[0].y.shape)\n",
    "all_studies = np.concatenate([np.array(dev_studies),np.array(test_studies)])\n"
   ]
  },
  {
   "cell_type": "code",
   "execution_count": 8,
   "id": "7281a2f0",
   "metadata": {},
   "outputs": [],
   "source": [
    "from sklearn.model_selection import train_test_split\n",
    "import pandas as pd\n",
    "\n",
    "# Make stratified train/val splits based on recordings having any MS event\n",
    "\n",
    "df_train = pd.DataFrame({\"Name\": splits['train'],\n",
    "                        \"MS\": [np.any(s.y[...,1]==1) for s in dev_studies],\n",
    "                        \"n_periods\": [x.n_periods for x in dev_studies],\n",
    "                        \"Studies\": dev_studies})\n",
    "\n",
    "_train, _val = train_test_split(df_train, test_size=0.2, stratify=df_train.MS, random_state=16)\n",
    "train_studies = _train[_train.n_periods >= 0].Studies.tolist()\n",
    "val_studies = _val[_val.n_periods >= 0].Studies.tolist()\n",
    "\n",
    "# del [_train, _val, df_train, dev_studies]"
   ]
  },
  {
   "cell_type": "code",
   "execution_count": 9,
   "id": "f1ac7c24",
   "metadata": {},
   "outputs": [],
   "source": [
    "# Save the validation split to be used for self-supervised learning\n",
    "val_id = [s.psg_file_path.split(\"\\\\\")[-1].replace(\".edf\",\"\") for s in val_studies]\n",
    "new_train = [id for id in splits['train'] if id not in val_id]\n",
    "new_val = [id for id in splits['train'] if id in val_id]\n",
    "\n",
    "skorucack_splits_with_validation = {\"train\": new_train,\n",
    "                                   \"valid\": new_val,\n",
    "                                   \"test\": splits['test']}\n",
    "\n",
    "with open(\"splits\\\\skorucak_splits_with_validation.json\", \"w\") as f:\n",
    "    json.dump(skorucack_splits_with_validation, f)"
   ]
  },
  {
   "cell_type": "code",
   "execution_count": 10,
   "id": "1faaa777",
   "metadata": {},
   "outputs": [
    {
     "name": "stdout",
     "output_type": "stream",
     "text": [
      "Training 0.1069 are positive - Naive method baseline is: 0.8931\n",
      "Validation 0.0883 are positive - Naive method baseline is: 0.9117\n"
     ]
    }
   ],
   "source": [
    "train_pos = sum([np.sum(v.y[...,1]==1) for v in train_studies])/sum([np.prod(v.y[...,1].shape) for v in train_studies])\n",
    "train_neg = 1 - train_pos\n",
    "val_pos = sum([np.sum(v.y[...,1]==1) for v in val_studies])/sum([np.prod(v.y[...,1].shape) for v in val_studies])\n",
    "val_neg = 1 - val_pos\n",
    "\n",
    "print(f\"Training {train_pos:.4f} are positive - Naive method baseline is: {train_neg:.4f}\")\n",
    "print(f\"Validation {val_pos:.4f} are positive - Naive method baseline is: {val_neg:.4f}\")"
   ]
  },
  {
   "cell_type": "code",
   "execution_count": 11,
   "id": "10f59346",
   "metadata": {},
   "outputs": [],
   "source": [
    "import tensorflow as tf\n",
    "\n",
    "# Create generator which extracts contigous intervals randomly from a random recording\n",
    "\n",
    "class Generator(tf.keras.utils.Sequence):\n",
    "\n",
    "    def __init__(self, studies: typing.List[SleepStudy], hparams: YAMLHParams):\n",
    "        \n",
    "        self.studies = studies\n",
    "        self.params  = hparams\n",
    "        self.batch_shape = hparams['build']['batch_shape']\n",
    "        self.batch_size = self.batch_shape[0]\n",
    "        self.period_size = self.batch_shape[1]\n",
    "        self.n_classes = 2\n",
    "        self.n_channels = 4\n",
    "        self.margin = int(np.floor((self.period_size / 2))) #if self.period_size % 2 else int(self.period_size / 2) - 1\n",
    "        self.num_entries = sum([(x.get_all_periods().shape[0] - self.margin*2) * x.n_channels for x in studies])\n",
    "\n",
    "        # Init x and y\n",
    "        self.indices = self._generate_indices()\n",
    "        self.idx = np.arange(0, len(self.indices))\n",
    "        self.x = self._get_x_data()\n",
    "        self.y = self._get_y_data()\n",
    "\n",
    "        np.random.shuffle(self.idx)\n",
    "   \n",
    "    def __len__(self):\n",
    "        return int(np.floor(self.num_entries / self.batch_size))\n",
    "\n",
    "    def __getitem__(self, index):\n",
    "        inds = self.idx[index*self.batch_size:(index+1)*self.batch_size]\n",
    "        batch_x = self.x[inds]\n",
    "        batch_y = self.y[inds]\n",
    "        return batch_x, batch_y\n",
    "    \n",
    "    def _generate_indices(self):\n",
    "        num_pi=[x.n_periods - self.margin*2 for x in self.studies]\n",
    "        idxs = []\n",
    "        for s in range(len(self.studies)):\n",
    "            for p in range(int(num_pi[s])):\n",
    "                for c in range(self.n_channels):\n",
    "                    idxs.append((s, p+self.margin, c))\n",
    "        return idxs\n",
    "\n",
    "    def _get_x_data(self): \n",
    "        \n",
    "        def _get_psg_by_idx(s: SleepStudy, period, channel, margin):\n",
    "            return s.get_all_periods()[period-margin:period+margin+1,...,s.channel_groups[channel].channel_indices]\n",
    "\n",
    "        return np.array([_get_psg_by_idx(self.studies[i[0]], i[1], i[2], self.margin) for i in self.indices])\n",
    "    \n",
    "    def _get_y_data(self): \n",
    "        \n",
    "        def _get_target_by_idx(s: SleepStudy, period, margin):\n",
    "            return s.y[period-margin:period+margin+1, ...]\n",
    "\n",
    "        return np.array([_get_target_by_idx(self.studies[i[0]], i[1], self.margin) for i in self.indices])\n",
    "    \n",
    "    def on_epoch_end(self):\n",
    "        np.random.shuffle(self.idx)\n",
    "\n",
    "val_data = Generator(val_studies, hparams)\n",
    "train_data = Generator(train_studies, hparams)  \n"
   ]
  },
  {
   "cell_type": "code",
   "execution_count": 12,
   "id": "a0d2c382",
   "metadata": {},
   "outputs": [],
   "source": [
    "# Class weights?\n",
    "\n",
    "# def flatten(l):\n",
    "#     return [item for sublist in l for item in sublist]\n",
    "\n",
    "\n",
    "# from sklearn.utils import compute_class_weight\n",
    "# ys = flatten([x.y[...,1].flatten() for x in train_studies])\n",
    "# classes = np.arange(2)\n",
    "# clw = compute_class_weight(class_weight=\"balanced\", classes=classes, y=ys)\n",
    "# class_weights = {0: clw[0], 1: clw[1]}\n",
    "# class_weights\n",
    "\n",
    "# Not possible for models with 3D output!!!"
   ]
  },
  {
   "attachments": {},
   "cell_type": "markdown",
   "id": "8d1d098a",
   "metadata": {},
   "source": [
    "## Train only head (pre fine-tuning)"
   ]
  },
  {
   "cell_type": "code",
   "execution_count": 13,
   "id": "38caed69",
   "metadata": {},
   "outputs": [],
   "source": [
    "train_model = True\n",
    "folder = \"TL_16022022\"\n",
    "\n",
    "if not os.path.exists(folder):\n",
    "    os.mkdir(folder)\n"
   ]
  },
  {
   "cell_type": "code",
   "execution_count": 14,
   "id": "79979f60",
   "metadata": {},
   "outputs": [
    {
     "name": "stdout",
     "output_type": "stream",
     "text": [
      "139/139 [==============================] - 61s 363ms/step - loss: 0.6770 - categorical_accuracy: 0.5605 - val_loss: 0.4964 - val_categorical_accuracy: 0.9070\n"
     ]
    }
   ],
   "source": [
    "from keras.callbacks import EarlyStopping\n",
    "import pickle\n",
    "\n",
    "epochs_pre = 1\n",
    "cb = [EarlyStopping(monitor=\"val_loss\", patience=3, restore_best_weights=True)]\n",
    "\n",
    "\n",
    "if train_model:\n",
    "\n",
    "    model.compile(optimizer = tf.keras.optimizers.Adam(),\n",
    "              loss = tf.keras.losses.CategoricalCrossentropy(),\n",
    "              metrics = tf.keras.metrics.CategoricalAccuracy())\n",
    "\n",
    "\n",
    "    with tf.device(\"/device:GPU:0\"):\n",
    "        history = model.fit(train_data,\n",
    "                            validation_data=val_data, \n",
    "                            epochs=epochs_pre,\n",
    "                            callbacks=cb)\n",
    "\n",
    "    # Save training\n",
    "    with open(f\"{folder}\\\\history\", 'wb') as file_pi:\n",
    "        pickle.dump(history.history, file_pi)\n",
    "    \n",
    "    model.save_weights(f\"{folder}\\\\weights_new_pre.h5\")\n"
   ]
  },
  {
   "cell_type": "code",
   "execution_count": 15,
   "id": "4df7c10d",
   "metadata": {},
   "outputs": [
    {
     "name": "stdout",
     "output_type": "stream",
     "text": [
      "Epoch 1/50\n"
     ]
    },
    {
     "ename": "ResourceExhaustedError",
     "evalue": "Graph execution error:\n\nDetected at node 'mU-Sleep/uSleep_base/upsample_L9_up/resize/ResizeNearestNeighbor' defined at (most recent call last):\n    File \"c:\\Users\\SIOS\\Anaconda3\\envs\\u-sleep\\lib\\runpy.py\", line 196, in _run_module_as_main\n      return _run_code(code, main_globals, None,\n    File \"c:\\Users\\SIOS\\Anaconda3\\envs\\u-sleep\\lib\\runpy.py\", line 86, in _run_code\n      exec(code, run_globals)\n    File \"c:\\Users\\SIOS\\Anaconda3\\envs\\u-sleep\\lib\\site-packages\\ipykernel_launcher.py\", line 17, in <module>\n      app.launch_new_instance()\n    File \"c:\\Users\\SIOS\\Anaconda3\\envs\\u-sleep\\lib\\site-packages\\traitlets\\config\\application.py\", line 985, in launch_instance\n      app.start()\n    File \"c:\\Users\\SIOS\\Anaconda3\\envs\\u-sleep\\lib\\site-packages\\ipykernel\\kernelapp.py\", line 712, in start\n      self.io_loop.start()\n    File \"c:\\Users\\SIOS\\Anaconda3\\envs\\u-sleep\\lib\\site-packages\\tornado\\platform\\asyncio.py\", line 215, in start\n      self.asyncio_loop.run_forever()\n    File \"c:\\Users\\SIOS\\Anaconda3\\envs\\u-sleep\\lib\\asyncio\\base_events.py\", line 600, in run_forever\n      self._run_once()\n    File \"c:\\Users\\SIOS\\Anaconda3\\envs\\u-sleep\\lib\\asyncio\\base_events.py\", line 1896, in _run_once\n      handle._run()\n    File \"c:\\Users\\SIOS\\Anaconda3\\envs\\u-sleep\\lib\\asyncio\\events.py\", line 80, in _run\n      self._context.run(self._callback, *self._args)\n    File \"c:\\Users\\SIOS\\Anaconda3\\envs\\u-sleep\\lib\\site-packages\\ipykernel\\kernelbase.py\", line 510, in dispatch_queue\n      await self.process_one()\n    File \"c:\\Users\\SIOS\\Anaconda3\\envs\\u-sleep\\lib\\site-packages\\ipykernel\\kernelbase.py\", line 499, in process_one\n      await dispatch(*args)\n    File \"c:\\Users\\SIOS\\Anaconda3\\envs\\u-sleep\\lib\\site-packages\\ipykernel\\kernelbase.py\", line 406, in dispatch_shell\n      await result\n    File \"c:\\Users\\SIOS\\Anaconda3\\envs\\u-sleep\\lib\\site-packages\\ipykernel\\kernelbase.py\", line 730, in execute_request\n      reply_content = await reply_content\n    File \"c:\\Users\\SIOS\\Anaconda3\\envs\\u-sleep\\lib\\site-packages\\ipykernel\\ipkernel.py\", line 383, in do_execute\n      res = shell.run_cell(\n    File \"c:\\Users\\SIOS\\Anaconda3\\envs\\u-sleep\\lib\\site-packages\\ipykernel\\zmqshell.py\", line 528, in run_cell\n      return super().run_cell(*args, **kwargs)\n    File \"c:\\Users\\SIOS\\Anaconda3\\envs\\u-sleep\\lib\\site-packages\\IPython\\core\\interactiveshell.py\", line 2940, in run_cell\n      result = self._run_cell(\n    File \"c:\\Users\\SIOS\\Anaconda3\\envs\\u-sleep\\lib\\site-packages\\IPython\\core\\interactiveshell.py\", line 2995, in _run_cell\n      return runner(coro)\n    File \"c:\\Users\\SIOS\\Anaconda3\\envs\\u-sleep\\lib\\site-packages\\IPython\\core\\async_helpers.py\", line 129, in _pseudo_sync_runner\n      coro.send(None)\n    File \"c:\\Users\\SIOS\\Anaconda3\\envs\\u-sleep\\lib\\site-packages\\IPython\\core\\interactiveshell.py\", line 3194, in run_cell_async\n      has_raised = await self.run_ast_nodes(code_ast.body, cell_name,\n    File \"c:\\Users\\SIOS\\Anaconda3\\envs\\u-sleep\\lib\\site-packages\\IPython\\core\\interactiveshell.py\", line 3373, in run_ast_nodes\n      if await self.run_code(code, result, async_=asy):\n    File \"c:\\Users\\SIOS\\Anaconda3\\envs\\u-sleep\\lib\\site-packages\\IPython\\core\\interactiveshell.py\", line 3433, in run_code\n      exec(code_obj, self.user_global_ns, self.user_ns)\n    File \"C:\\Users\\SIOS\\AppData\\Local\\Temp\\ipykernel_33036\\1421823664.py\", line 17, in <module>\n      history_fine = model.fit(train_data,\n    File \"c:\\Users\\SIOS\\Anaconda3\\envs\\u-sleep\\lib\\site-packages\\keras\\utils\\traceback_utils.py\", line 65, in error_handler\n      return fn(*args, **kwargs)\n    File \"c:\\Users\\SIOS\\Anaconda3\\envs\\u-sleep\\lib\\site-packages\\keras\\engine\\training.py\", line 1564, in fit\n      tmp_logs = self.train_function(iterator)\n    File \"c:\\Users\\SIOS\\Anaconda3\\envs\\u-sleep\\lib\\site-packages\\keras\\engine\\training.py\", line 1160, in train_function\n      return step_function(self, iterator)\n    File \"c:\\Users\\SIOS\\Anaconda3\\envs\\u-sleep\\lib\\site-packages\\keras\\engine\\training.py\", line 1146, in step_function\n      outputs = model.distribute_strategy.run(run_step, args=(data,))\n    File \"c:\\Users\\SIOS\\Anaconda3\\envs\\u-sleep\\lib\\site-packages\\keras\\engine\\training.py\", line 1135, in run_step\n      outputs = model.train_step(data)\n    File \"c:\\Users\\SIOS\\Anaconda3\\envs\\u-sleep\\lib\\site-packages\\keras\\engine\\training.py\", line 993, in train_step\n      y_pred = self(x, training=True)\n    File \"c:\\Users\\SIOS\\Anaconda3\\envs\\u-sleep\\lib\\site-packages\\keras\\utils\\traceback_utils.py\", line 65, in error_handler\n      return fn(*args, **kwargs)\n    File \"c:\\Users\\SIOS\\Anaconda3\\envs\\u-sleep\\lib\\site-packages\\keras\\engine\\training.py\", line 557, in __call__\n      return super().__call__(*args, **kwargs)\n    File \"c:\\Users\\SIOS\\Anaconda3\\envs\\u-sleep\\lib\\site-packages\\keras\\utils\\traceback_utils.py\", line 65, in error_handler\n      return fn(*args, **kwargs)\n    File \"c:\\Users\\SIOS\\Anaconda3\\envs\\u-sleep\\lib\\site-packages\\keras\\engine\\base_layer.py\", line 1097, in __call__\n      outputs = call_fn(inputs, *args, **kwargs)\n    File \"c:\\Users\\SIOS\\Anaconda3\\envs\\u-sleep\\lib\\site-packages\\keras\\utils\\traceback_utils.py\", line 96, in error_handler\n      return fn(*args, **kwargs)\n    File \"c:\\Users\\SIOS\\Anaconda3\\envs\\u-sleep\\lib\\site-packages\\keras\\engine\\functional.py\", line 510, in call\n      return self._run_internal_graph(inputs, training=training, mask=mask)\n    File \"c:\\Users\\SIOS\\Anaconda3\\envs\\u-sleep\\lib\\site-packages\\keras\\engine\\functional.py\", line 667, in _run_internal_graph\n      outputs = node.layer(*args, **kwargs)\n    File \"c:\\Users\\SIOS\\Anaconda3\\envs\\u-sleep\\lib\\site-packages\\keras\\utils\\traceback_utils.py\", line 65, in error_handler\n      return fn(*args, **kwargs)\n    File \"c:\\Users\\SIOS\\Anaconda3\\envs\\u-sleep\\lib\\site-packages\\keras\\engine\\training.py\", line 557, in __call__\n      return super().__call__(*args, **kwargs)\n    File \"c:\\Users\\SIOS\\Anaconda3\\envs\\u-sleep\\lib\\site-packages\\keras\\utils\\traceback_utils.py\", line 65, in error_handler\n      return fn(*args, **kwargs)\n    File \"c:\\Users\\SIOS\\Anaconda3\\envs\\u-sleep\\lib\\site-packages\\keras\\engine\\base_layer.py\", line 1097, in __call__\n      outputs = call_fn(inputs, *args, **kwargs)\n    File \"c:\\Users\\SIOS\\Anaconda3\\envs\\u-sleep\\lib\\site-packages\\keras\\utils\\traceback_utils.py\", line 96, in error_handler\n      return fn(*args, **kwargs)\n    File \"c:\\Users\\SIOS\\Anaconda3\\envs\\u-sleep\\lib\\site-packages\\keras\\engine\\functional.py\", line 510, in call\n      return self._run_internal_graph(inputs, training=training, mask=mask)\n    File \"c:\\Users\\SIOS\\Anaconda3\\envs\\u-sleep\\lib\\site-packages\\keras\\engine\\functional.py\", line 667, in _run_internal_graph\n      outputs = node.layer(*args, **kwargs)\n    File \"c:\\Users\\SIOS\\Anaconda3\\envs\\u-sleep\\lib\\site-packages\\keras\\utils\\traceback_utils.py\", line 65, in error_handler\n      return fn(*args, **kwargs)\n    File \"c:\\Users\\SIOS\\Anaconda3\\envs\\u-sleep\\lib\\site-packages\\keras\\engine\\base_layer.py\", line 1097, in __call__\n      outputs = call_fn(inputs, *args, **kwargs)\n    File \"c:\\Users\\SIOS\\Anaconda3\\envs\\u-sleep\\lib\\site-packages\\keras\\utils\\traceback_utils.py\", line 96, in error_handler\n      return fn(*args, **kwargs)\n    File \"c:\\Users\\SIOS\\Anaconda3\\envs\\u-sleep\\lib\\site-packages\\keras\\layers\\reshaping\\up_sampling2d.py\", line 146, in call\n      return backend.resize_images(\n    File \"c:\\Users\\SIOS\\Anaconda3\\envs\\u-sleep\\lib\\site-packages\\keras\\backend.py\", line 3693, in resize_images\n      x = tf.image.resize(x, new_shape, method=interpolations[interpolation])\nNode: 'mU-Sleep/uSleep_base/upsample_L9_up/resize/ResizeNearestNeighbor'\nOOM when allocating tensor with shape[64,18240,1,15] and type float on /job:localhost/replica:0/task:0/device:GPU:0 by allocator GPU_0_bfc\n\t [[{{node mU-Sleep/uSleep_base/upsample_L9_up/resize/ResizeNearestNeighbor}}]]\nHint: If you want to see a list of allocated tensors when OOM happens, add report_tensor_allocations_upon_oom to RunOptions for current allocation info. This isn't available when running in Eager mode.\n [Op:__inference_train_function_21128]",
     "output_type": "error",
     "traceback": [
      "\u001b[1;31m---------------------------------------------------------------------------\u001b[0m",
      "\u001b[1;31mResourceExhaustedError\u001b[0m                    Traceback (most recent call last)",
      "Cell \u001b[1;32mIn[15], line 17\u001b[0m\n\u001b[0;32m     14\u001b[0m cb \u001b[39m=\u001b[39m [EarlyStopping(monitor\u001b[39m=\u001b[39m\u001b[39m\"\u001b[39m\u001b[39mval_loss\u001b[39m\u001b[39m\"\u001b[39m, patience\u001b[39m=\u001b[39m\u001b[39m3\u001b[39m, restore_best_weights\u001b[39m=\u001b[39m\u001b[39mTrue\u001b[39;00m)]\n\u001b[0;32m     16\u001b[0m \u001b[39mwith\u001b[39;00m tf\u001b[39m.\u001b[39mdevice(\u001b[39m\"\u001b[39m\u001b[39m/device:GPU:0\u001b[39m\u001b[39m\"\u001b[39m):\n\u001b[1;32m---> 17\u001b[0m     history_fine \u001b[39m=\u001b[39m model\u001b[39m.\u001b[39;49mfit(train_data,\n\u001b[0;32m     18\u001b[0m                             validation_data\u001b[39m=\u001b[39;49mval_data, \n\u001b[0;32m     19\u001b[0m                             epochs\u001b[39m=\u001b[39;49mepochs_post,\n\u001b[0;32m     20\u001b[0m                             initial_epoch\u001b[39m=\u001b[39;49mhistory\u001b[39m.\u001b[39;49mepoch[\u001b[39m-\u001b[39;49m\u001b[39m1\u001b[39;49m],\n\u001b[0;32m     21\u001b[0m                             callbacks\u001b[39m=\u001b[39;49mcb)\n\u001b[0;32m     23\u001b[0m \u001b[39m# Save fine-tune training\u001b[39;00m\n\u001b[0;32m     24\u001b[0m model\u001b[39m.\u001b[39msave_weights(\u001b[39mf\u001b[39m\u001b[39m\"\u001b[39m\u001b[39m{\u001b[39;00mfolder\u001b[39m}\u001b[39;00m\u001b[39m\\\\\u001b[39;00m\u001b[39mweights_new_post.h5\u001b[39m\u001b[39m\"\u001b[39m)\n",
      "File \u001b[1;32mc:\\Users\\SIOS\\Anaconda3\\envs\\u-sleep\\lib\\site-packages\\keras\\utils\\traceback_utils.py:70\u001b[0m, in \u001b[0;36mfilter_traceback.<locals>.error_handler\u001b[1;34m(*args, **kwargs)\u001b[0m\n\u001b[0;32m     67\u001b[0m     filtered_tb \u001b[39m=\u001b[39m _process_traceback_frames(e\u001b[39m.\u001b[39m__traceback__)\n\u001b[0;32m     68\u001b[0m     \u001b[39m# To get the full stack trace, call:\u001b[39;00m\n\u001b[0;32m     69\u001b[0m     \u001b[39m# `tf.debugging.disable_traceback_filtering()`\u001b[39;00m\n\u001b[1;32m---> 70\u001b[0m     \u001b[39mraise\u001b[39;00m e\u001b[39m.\u001b[39mwith_traceback(filtered_tb) \u001b[39mfrom\u001b[39;00m \u001b[39mNone\u001b[39m\n\u001b[0;32m     71\u001b[0m \u001b[39mfinally\u001b[39;00m:\n\u001b[0;32m     72\u001b[0m     \u001b[39mdel\u001b[39;00m filtered_tb\n",
      "File \u001b[1;32mc:\\Users\\SIOS\\Anaconda3\\envs\\u-sleep\\lib\\site-packages\\tensorflow\\python\\eager\\execute.py:54\u001b[0m, in \u001b[0;36mquick_execute\u001b[1;34m(op_name, num_outputs, inputs, attrs, ctx, name)\u001b[0m\n\u001b[0;32m     52\u001b[0m \u001b[39mtry\u001b[39;00m:\n\u001b[0;32m     53\u001b[0m   ctx\u001b[39m.\u001b[39mensure_initialized()\n\u001b[1;32m---> 54\u001b[0m   tensors \u001b[39m=\u001b[39m pywrap_tfe\u001b[39m.\u001b[39mTFE_Py_Execute(ctx\u001b[39m.\u001b[39m_handle, device_name, op_name,\n\u001b[0;32m     55\u001b[0m                                       inputs, attrs, num_outputs)\n\u001b[0;32m     56\u001b[0m \u001b[39mexcept\u001b[39;00m core\u001b[39m.\u001b[39m_NotOkStatusException \u001b[39mas\u001b[39;00m e:\n\u001b[0;32m     57\u001b[0m   \u001b[39mif\u001b[39;00m name \u001b[39mis\u001b[39;00m \u001b[39mnot\u001b[39;00m \u001b[39mNone\u001b[39;00m:\n",
      "\u001b[1;31mResourceExhaustedError\u001b[0m: Graph execution error:\n\nDetected at node 'mU-Sleep/uSleep_base/upsample_L9_up/resize/ResizeNearestNeighbor' defined at (most recent call last):\n    File \"c:\\Users\\SIOS\\Anaconda3\\envs\\u-sleep\\lib\\runpy.py\", line 196, in _run_module_as_main\n      return _run_code(code, main_globals, None,\n    File \"c:\\Users\\SIOS\\Anaconda3\\envs\\u-sleep\\lib\\runpy.py\", line 86, in _run_code\n      exec(code, run_globals)\n    File \"c:\\Users\\SIOS\\Anaconda3\\envs\\u-sleep\\lib\\site-packages\\ipykernel_launcher.py\", line 17, in <module>\n      app.launch_new_instance()\n    File \"c:\\Users\\SIOS\\Anaconda3\\envs\\u-sleep\\lib\\site-packages\\traitlets\\config\\application.py\", line 985, in launch_instance\n      app.start()\n    File \"c:\\Users\\SIOS\\Anaconda3\\envs\\u-sleep\\lib\\site-packages\\ipykernel\\kernelapp.py\", line 712, in start\n      self.io_loop.start()\n    File \"c:\\Users\\SIOS\\Anaconda3\\envs\\u-sleep\\lib\\site-packages\\tornado\\platform\\asyncio.py\", line 215, in start\n      self.asyncio_loop.run_forever()\n    File \"c:\\Users\\SIOS\\Anaconda3\\envs\\u-sleep\\lib\\asyncio\\base_events.py\", line 600, in run_forever\n      self._run_once()\n    File \"c:\\Users\\SIOS\\Anaconda3\\envs\\u-sleep\\lib\\asyncio\\base_events.py\", line 1896, in _run_once\n      handle._run()\n    File \"c:\\Users\\SIOS\\Anaconda3\\envs\\u-sleep\\lib\\asyncio\\events.py\", line 80, in _run\n      self._context.run(self._callback, *self._args)\n    File \"c:\\Users\\SIOS\\Anaconda3\\envs\\u-sleep\\lib\\site-packages\\ipykernel\\kernelbase.py\", line 510, in dispatch_queue\n      await self.process_one()\n    File \"c:\\Users\\SIOS\\Anaconda3\\envs\\u-sleep\\lib\\site-packages\\ipykernel\\kernelbase.py\", line 499, in process_one\n      await dispatch(*args)\n    File \"c:\\Users\\SIOS\\Anaconda3\\envs\\u-sleep\\lib\\site-packages\\ipykernel\\kernelbase.py\", line 406, in dispatch_shell\n      await result\n    File \"c:\\Users\\SIOS\\Anaconda3\\envs\\u-sleep\\lib\\site-packages\\ipykernel\\kernelbase.py\", line 730, in execute_request\n      reply_content = await reply_content\n    File \"c:\\Users\\SIOS\\Anaconda3\\envs\\u-sleep\\lib\\site-packages\\ipykernel\\ipkernel.py\", line 383, in do_execute\n      res = shell.run_cell(\n    File \"c:\\Users\\SIOS\\Anaconda3\\envs\\u-sleep\\lib\\site-packages\\ipykernel\\zmqshell.py\", line 528, in run_cell\n      return super().run_cell(*args, **kwargs)\n    File \"c:\\Users\\SIOS\\Anaconda3\\envs\\u-sleep\\lib\\site-packages\\IPython\\core\\interactiveshell.py\", line 2940, in run_cell\n      result = self._run_cell(\n    File \"c:\\Users\\SIOS\\Anaconda3\\envs\\u-sleep\\lib\\site-packages\\IPython\\core\\interactiveshell.py\", line 2995, in _run_cell\n      return runner(coro)\n    File \"c:\\Users\\SIOS\\Anaconda3\\envs\\u-sleep\\lib\\site-packages\\IPython\\core\\async_helpers.py\", line 129, in _pseudo_sync_runner\n      coro.send(None)\n    File \"c:\\Users\\SIOS\\Anaconda3\\envs\\u-sleep\\lib\\site-packages\\IPython\\core\\interactiveshell.py\", line 3194, in run_cell_async\n      has_raised = await self.run_ast_nodes(code_ast.body, cell_name,\n    File \"c:\\Users\\SIOS\\Anaconda3\\envs\\u-sleep\\lib\\site-packages\\IPython\\core\\interactiveshell.py\", line 3373, in run_ast_nodes\n      if await self.run_code(code, result, async_=asy):\n    File \"c:\\Users\\SIOS\\Anaconda3\\envs\\u-sleep\\lib\\site-packages\\IPython\\core\\interactiveshell.py\", line 3433, in run_code\n      exec(code_obj, self.user_global_ns, self.user_ns)\n    File \"C:\\Users\\SIOS\\AppData\\Local\\Temp\\ipykernel_33036\\1421823664.py\", line 17, in <module>\n      history_fine = model.fit(train_data,\n    File \"c:\\Users\\SIOS\\Anaconda3\\envs\\u-sleep\\lib\\site-packages\\keras\\utils\\traceback_utils.py\", line 65, in error_handler\n      return fn(*args, **kwargs)\n    File \"c:\\Users\\SIOS\\Anaconda3\\envs\\u-sleep\\lib\\site-packages\\keras\\engine\\training.py\", line 1564, in fit\n      tmp_logs = self.train_function(iterator)\n    File \"c:\\Users\\SIOS\\Anaconda3\\envs\\u-sleep\\lib\\site-packages\\keras\\engine\\training.py\", line 1160, in train_function\n      return step_function(self, iterator)\n    File \"c:\\Users\\SIOS\\Anaconda3\\envs\\u-sleep\\lib\\site-packages\\keras\\engine\\training.py\", line 1146, in step_function\n      outputs = model.distribute_strategy.run(run_step, args=(data,))\n    File \"c:\\Users\\SIOS\\Anaconda3\\envs\\u-sleep\\lib\\site-packages\\keras\\engine\\training.py\", line 1135, in run_step\n      outputs = model.train_step(data)\n    File \"c:\\Users\\SIOS\\Anaconda3\\envs\\u-sleep\\lib\\site-packages\\keras\\engine\\training.py\", line 993, in train_step\n      y_pred = self(x, training=True)\n    File \"c:\\Users\\SIOS\\Anaconda3\\envs\\u-sleep\\lib\\site-packages\\keras\\utils\\traceback_utils.py\", line 65, in error_handler\n      return fn(*args, **kwargs)\n    File \"c:\\Users\\SIOS\\Anaconda3\\envs\\u-sleep\\lib\\site-packages\\keras\\engine\\training.py\", line 557, in __call__\n      return super().__call__(*args, **kwargs)\n    File \"c:\\Users\\SIOS\\Anaconda3\\envs\\u-sleep\\lib\\site-packages\\keras\\utils\\traceback_utils.py\", line 65, in error_handler\n      return fn(*args, **kwargs)\n    File \"c:\\Users\\SIOS\\Anaconda3\\envs\\u-sleep\\lib\\site-packages\\keras\\engine\\base_layer.py\", line 1097, in __call__\n      outputs = call_fn(inputs, *args, **kwargs)\n    File \"c:\\Users\\SIOS\\Anaconda3\\envs\\u-sleep\\lib\\site-packages\\keras\\utils\\traceback_utils.py\", line 96, in error_handler\n      return fn(*args, **kwargs)\n    File \"c:\\Users\\SIOS\\Anaconda3\\envs\\u-sleep\\lib\\site-packages\\keras\\engine\\functional.py\", line 510, in call\n      return self._run_internal_graph(inputs, training=training, mask=mask)\n    File \"c:\\Users\\SIOS\\Anaconda3\\envs\\u-sleep\\lib\\site-packages\\keras\\engine\\functional.py\", line 667, in _run_internal_graph\n      outputs = node.layer(*args, **kwargs)\n    File \"c:\\Users\\SIOS\\Anaconda3\\envs\\u-sleep\\lib\\site-packages\\keras\\utils\\traceback_utils.py\", line 65, in error_handler\n      return fn(*args, **kwargs)\n    File \"c:\\Users\\SIOS\\Anaconda3\\envs\\u-sleep\\lib\\site-packages\\keras\\engine\\training.py\", line 557, in __call__\n      return super().__call__(*args, **kwargs)\n    File \"c:\\Users\\SIOS\\Anaconda3\\envs\\u-sleep\\lib\\site-packages\\keras\\utils\\traceback_utils.py\", line 65, in error_handler\n      return fn(*args, **kwargs)\n    File \"c:\\Users\\SIOS\\Anaconda3\\envs\\u-sleep\\lib\\site-packages\\keras\\engine\\base_layer.py\", line 1097, in __call__\n      outputs = call_fn(inputs, *args, **kwargs)\n    File \"c:\\Users\\SIOS\\Anaconda3\\envs\\u-sleep\\lib\\site-packages\\keras\\utils\\traceback_utils.py\", line 96, in error_handler\n      return fn(*args, **kwargs)\n    File \"c:\\Users\\SIOS\\Anaconda3\\envs\\u-sleep\\lib\\site-packages\\keras\\engine\\functional.py\", line 510, in call\n      return self._run_internal_graph(inputs, training=training, mask=mask)\n    File \"c:\\Users\\SIOS\\Anaconda3\\envs\\u-sleep\\lib\\site-packages\\keras\\engine\\functional.py\", line 667, in _run_internal_graph\n      outputs = node.layer(*args, **kwargs)\n    File \"c:\\Users\\SIOS\\Anaconda3\\envs\\u-sleep\\lib\\site-packages\\keras\\utils\\traceback_utils.py\", line 65, in error_handler\n      return fn(*args, **kwargs)\n    File \"c:\\Users\\SIOS\\Anaconda3\\envs\\u-sleep\\lib\\site-packages\\keras\\engine\\base_layer.py\", line 1097, in __call__\n      outputs = call_fn(inputs, *args, **kwargs)\n    File \"c:\\Users\\SIOS\\Anaconda3\\envs\\u-sleep\\lib\\site-packages\\keras\\utils\\traceback_utils.py\", line 96, in error_handler\n      return fn(*args, **kwargs)\n    File \"c:\\Users\\SIOS\\Anaconda3\\envs\\u-sleep\\lib\\site-packages\\keras\\layers\\reshaping\\up_sampling2d.py\", line 146, in call\n      return backend.resize_images(\n    File \"c:\\Users\\SIOS\\Anaconda3\\envs\\u-sleep\\lib\\site-packages\\keras\\backend.py\", line 3693, in resize_images\n      x = tf.image.resize(x, new_shape, method=interpolations[interpolation])\nNode: 'mU-Sleep/uSleep_base/upsample_L9_up/resize/ResizeNearestNeighbor'\nOOM when allocating tensor with shape[64,18240,1,15] and type float on /job:localhost/replica:0/task:0/device:GPU:0 by allocator GPU_0_bfc\n\t [[{{node mU-Sleep/uSleep_base/upsample_L9_up/resize/ResizeNearestNeighbor}}]]\nHint: If you want to see a list of allocated tensors when OOM happens, add report_tensor_allocations_upon_oom to RunOptions for current allocation info. This isn't available when running in Eager mode.\n [Op:__inference_train_function_21128]"
     ]
    }
   ],
   "source": [
    "# Unfreeze all model for fine-tuning and train for another 50 epochs\n",
    "\n",
    "epochs_post = history.epoch[-1] + 50\n",
    "\n",
    "if train_model:\n",
    "\n",
    "    # Unfreeze for fine-tuning\n",
    "    base.trainable = True\n",
    "\n",
    "    model.compile(optimizer = tf.keras.optimizers.Adam(learning_rate=1e-7),\n",
    "                loss = tf.keras.losses.CategoricalCrossentropy(),\n",
    "                metrics = tf.keras.metrics.CategoricalAccuracy())\n",
    "\n",
    "    cb = [EarlyStopping(monitor=\"val_loss\", patience=3, restore_best_weights=True)]\n",
    "\n",
    "    with tf.device(\"/device:GPU:0\"):\n",
    "        history_fine = model.fit(train_data,\n",
    "                                validation_data=val_data, \n",
    "                                epochs=epochs_post,\n",
    "                                initial_epoch=history.epoch[-1],\n",
    "                                callbacks=cb)\n",
    "    \n",
    "    # Save fine-tune training\n",
    "    model.save_weights(f\"{folder}\\\\weights_new_post.h5\")\n",
    "\n",
    "    with open(f\"{folder}\\\\history_fine\", 'wb') as file_pi:\n",
    "        pickle.dump(history_fine.history, file_pi)\n"
   ]
  },
  {
   "attachments": {},
   "cell_type": "markdown",
   "id": "b73e269e",
   "metadata": {},
   "source": [
    "## Analyze tranfer learning run and make test predictions\n",
    "Files are stored in TL_12192022"
   ]
  },
  {
   "cell_type": "code",
   "execution_count": 17,
   "id": "d3594340",
   "metadata": {},
   "outputs": [],
   "source": [
    "import pickle\n",
    "\n",
    "folder = \"TL_12192022\"\n",
    "\n",
    "with open(f\"{folder}/history\", \"rb\") as f:\n",
    "    history_pre = pickle.load(f)\n",
    "\n",
    "with open(f\"{folder}/history_fine\", \"rb\") as f:\n",
    "    history_post = pickle.load(f)\n",
    "\n",
    "history = dict.fromkeys(history_post.keys())\n",
    "for (k, pre), (_, post) in zip(history_pre.items(), history_post.items()):\n",
    "    history[k] = [*pre, *post]\n",
    "\n",
    "history['epoch'] = np.arange(0, len(history[k]))\n",
    "history['train_new'] = np.concatenate([np.repeat(\"pre\", len(pre)), np.repeat(\"post\",len(post))])\n",
    "\n",
    "pred_weights = f\"{folder}/weights_new_post.h5\"\n"
   ]
  },
  {
   "cell_type": "code",
   "execution_count": 18,
   "id": "4b386b90",
   "metadata": {},
   "outputs": [
    {
     "data": {
      "image/png": "[encoded data removed]",
      "text/plain": [
       "<Figure size 1000x600 with 2 Axes>"
      ]
     },
     "metadata": {},
     "output_type": "display_data"
    }
   ],
   "source": [
    "import matplotlib.pyplot as plt\n",
    "# Plot learning curves\n",
    "df = pd.DataFrame(history)\n",
    "change = np.where(df.train_new==\"pre\")[0][-1]\n",
    "\n",
    "fig, (ax1, ax2) = plt.subplots(2,1,figsize=(10,6))\n",
    "ax1.plot(df.epoch, df.loss, \"-o\", color=\"tab:blue\", label=\"Train\", markersize=3)\n",
    "ax1.plot(df.epoch, df.val_loss, \"-o\", color=\"tab:orange\", label=\"Validation\", markersize=3)\n",
    "ax1.axvline(x=change, linestyle=\"--\", color=\"tab:green\", label=\"Fine-tuning\")\n",
    "ax1.set_ylabel(\"Loss\")\n",
    "ax1.grid()\n",
    "\n",
    "ax2.plot(df.epoch, df.categorical_accuracy, \"-o\", color=\"tab:blue\", label=\"Training\", markersize=3)\n",
    "ax2.plot(df.epoch, df.val_categorical_accuracy, \"-o\", color=\"tab:orange\", label=\"Validation\", markersize=3)\n",
    "ax2.axvline(x=change, linestyle=\"--\", color=\"tab:green\", label=\"Fine-tuning\")\n",
    "ax2.set_ylabel(\"Accuracy\")\n",
    "ax2.set_xlabel(\"Epoch\")\n",
    "ax2.legend()\n",
    "ax2.grid()\n"
   ]
  },
  {
   "cell_type": "code",
   "execution_count": 19,
   "id": "69027616",
   "metadata": {},
   "outputs": [],
   "source": [
    "# Create model for prediction\n",
    "\n",
    "def load_prediction_model_for_study(study, weight_file, args, hparams):\n",
    "\n",
    "    base = get_and_load_one_shot_model(\n",
    "                n_periods=study.n_periods,\n",
    "                project_dir=args.project_dir,\n",
    "                hparams=hparams\n",
    "                )\n",
    "    clear_output(wait=False)    # Removing glorot intitialization warning...\n",
    "\n",
    "    # Freeze base layers\n",
    "    base.trainable = False\n",
    "\n",
    "    base.layers[-5].trainable = True\n",
    "\n",
    "    # Extract base from pre-trained model (remove last )\n",
    "    inter_base = Model(inputs=base.input, outputs=base.layers[-5].output, name=\"uSleep_base\")\n",
    "    inter_out = inter_base(inputs=base.input, training=False)\n",
    "\n",
    "    # Create new head with base model as input with a 2-class problem\n",
    "    head=base.create_seq_modeling(in_=inter_out,\n",
    "                                input_dims = base.input_dims,\n",
    "                                data_per_period=args.data_per_prediction,\n",
    "                                n_periods=base.n_periods,\n",
    "                                n_classes=2,\n",
    "                                transition_window=base.transition_window,\n",
    "                                activation=base.activation,\n",
    "                                regularizer=None)\n",
    "\n",
    "\n",
    "    model = Model(inputs=base.input, outputs = head, name = \"mU-Sleep\")\n",
    "\n",
    "    if weight_file is not None:\n",
    "        model.trainable = True  # In order to load weights\n",
    "        model.load_weights(weight_file)\n",
    "        model.trainable = False\n",
    "        \n",
    "\n",
    "    print(f\"Input shape: {model.input.shape}\")\n",
    "    print(f\"Output shape: {model.output.shape}\")\n",
    "    print(f\"Model trainable: {model.trainable}\")\n",
    "    _=[print(f\"\\t {x.name}: ({x.shape})\") for x in model.trainable_weights]\n",
    "    model.summary()\n",
    "\n",
    "    return model\n",
    "\n",
    "def predict_on_study(mdl, study: SleepStudy):\n",
    "\n",
    "    prob = np.empty([len(study.channel_groups), study.n_periods*mdl.output_shape[-2], mdl.output_shape[-1]])\n",
    "    for i, channel_group in enumerate(study.channel_groups):\n",
    "        # Get PSG for particular group\n",
    "        psg = np.expand_dims(study.get_all_periods(),0)\n",
    "        psg_subset = psg[..., tuple(channel_group.channel_indices)]\n",
    "        prob_i = mdl.predict_on_batch(psg_subset)\n",
    "        prob[i,...] = prob_i.reshape(-1, prob.shape[-1])\n",
    "    \n",
    "    return prob\n"
   ]
  },
  {
   "cell_type": "code",
   "execution_count": 20,
   "id": "14de7344",
   "metadata": {},
   "outputs": [
    {
     "name": "stdout",
     "output_type": "stream",
     "text": [
      "Input shape: (None, 80, 3840, 2)\n",
      "Output shape: (None, 80, 30, 2)\n",
      "Model trainable: False\n",
      "Model: \"mU-Sleep\"\n",
      "_________________________________________________________________\n",
      " Layer (type)                Output Shape              Param #   \n",
      "=================================================================\n",
      " input_1 (InputLayer)        [(None, 80, 3840, 2)]     0         \n",
      "                                                                 \n",
      " uSleep_base (Functional)    (None, 307200, 1, 6)      3119286   \n",
      "                                                                 \n",
      " average_pool (AveragePoolin  (None, 2400, 1, 6)       0         \n",
      " g2D)                                                            \n",
      "                                                                 \n",
      " sequence_conv_out_1 (Conv2D  (None, 2400, 1, 2)       14        \n",
      " )                                                               \n",
      "                                                                 \n",
      " sequence_conv_out_2 (Conv2D  (None, 2400, 1, 2)       6         \n",
      " )                                                               \n",
      "                                                                 \n",
      " output_reshape (OutputResha  (None, 80, 30, 2)        0         \n",
      " pe)                                                             \n",
      "                                                                 \n",
      "=================================================================\n",
      "Total params: 3,119,306\n",
      "Trainable params: 0\n",
      "Non-trainable params: 3,119,306\n",
      "_________________________________________________________________\n"
     ]
    }
   ],
   "source": [
    "\n",
    "\n",
    "# Make validation predictions\n",
    "\n",
    "ids = []\n",
    "val_prob = []\n",
    "val_y = []\n",
    "\n",
    "for s in val_studies:\n",
    "\n",
    "    pred_model = load_prediction_model_for_study(s, weight_file=pred_weights, args=args, hparams=hparams)\n",
    "\n",
    "    prob = predict_on_study(pred_model, s)\n",
    "    \n",
    "    ids.append(s.identifier)\n",
    "    val_prob.append(prob.mean(axis=0))\n",
    "    val_y.append(s.y[...,1].flatten())\n",
    "    \n"
   ]
  },
  {
   "cell_type": "code",
   "execution_count": 21,
   "id": "e86390aa",
   "metadata": {},
   "outputs": [
    {
     "name": "stdout",
     "output_type": "stream",
     "text": [
      "Best Threshold=0.275, F-Score=0.803, Recall=0.798, Precision=0.808\n"
     ]
    },
    {
     "data": {
      "image/png": "[encoded data removed]",
      "text/plain": [
       "<Figure size 1500x500 with 2 Axes>"
      ]
     },
     "metadata": {},
     "output_type": "display_data"
    }
   ],
   "source": [
    "val_cat_y = np.concatenate(val_y)\n",
    "val_cat_prob = np.concatenate(val_prob)\n",
    "\n",
    "# pr curve for logistic regression model\n",
    "from sklearn.metrics import precision_recall_curve, precision_score, recall_score\n",
    "\n",
    "# calculate pr-curve\n",
    "# precision, recall, thresholds = precision_recall_curve(val_cat_y, val_cat_prob[:,1])\n",
    "\n",
    "thresholds = np.arange(start=0.0, stop=1.0, step=0.025)\n",
    "precision = np.array([precision_score(val_cat_y, val_cat_prob[:,1] >= t) for t in thresholds])\n",
    "recall = np.array([recall_score(val_cat_y, val_cat_prob[:,1] >= t) for t in thresholds])\n",
    "\n",
    "# convert to f score\n",
    "fscore = (2 * precision * recall) / (precision + recall)\n",
    "# locate the index of the largest f score\n",
    "opt_idx = np.argmax(fscore)\n",
    "\n",
    "# plot the roc curve for the model\n",
    "no_skill = len(val_cat_y[val_cat_y==1]) / len(val_cat_y)\n",
    "_, (ax1, ax2) = plt.subplots(1,2, figsize=(15,5))\n",
    "ax1.plot([0,1], [no_skill,no_skill], linestyle='--', label='No Skill', color=\"tab:orange\")\n",
    "ax1.plot(recall, precision, marker='.', label='mU-Sleep', color=\"tab:blue\")\n",
    "ax1.plot(recall[opt_idx], precision[opt_idx], marker=\"*\", color=\"tab:green\", markersize=12, label=\"Optimal\", linestyle=\"none\")\n",
    "ax1.set_xlabel('Recall')\n",
    "ax1.set_ylabel('Precision')\n",
    "ax1.legend()\n",
    "ax1.grid()\n",
    "info_txt = f\"Threshold={thresholds[opt_idx]:.2f}\\nF1-Score={fscore[opt_idx]:.2f}\" \n",
    "ty = -0.1\n",
    "tx = -0.25\n",
    "ax1.text(recall[opt_idx]+tx, precision[opt_idx]+ty, info_txt)\n",
    "\n",
    "# Plot F1-threshold curve\n",
    "ax2.plot(thresholds, fscore, marker='.', color=\"tab:blue\")\n",
    "ax2.plot(thresholds[opt_idx], fscore[opt_idx], marker='*', markersize=12, color=\"tab:green\", label=\"Optimal\")\n",
    "ax2.set_ylim([0,1])\n",
    "ax2.grid()\n",
    "ax2.set_xlabel(\"Thresholds\")\n",
    "ax2.set_ylabel(\"F1-Score\")\n",
    "\n",
    "print('Best Threshold=%.3f, F-Score=%.3f, Recall=%.3f, Precision=%.3f' % (thresholds[opt_idx], fscore[opt_idx], recall[opt_idx], precision[opt_idx]))\n"
   ]
  },
  {
   "cell_type": "code",
   "execution_count": 22,
   "id": "7ab12dff",
   "metadata": {},
   "outputs": [
    {
     "name": "stdout",
     "output_type": "stream",
     "text": [
      "Input shape: (None, 38, 3840, 2)\n",
      "Output shape: (None, 38, 30, 2)\n",
      "Model trainable: False\n",
      "Model: \"mU-Sleep\"\n",
      "_________________________________________________________________\n",
      " Layer (type)                Output Shape              Param #   \n",
      "=================================================================\n",
      " input_1 (InputLayer)        [(None, 38, 3840, 2)]     0         \n",
      "                                                                 \n",
      " uSleep_base (Functional)    (None, 145920, 1, 6)      3119286   \n",
      "                                                                 \n",
      " average_pool (AveragePoolin  (None, 1140, 1, 6)       0         \n",
      " g2D)                                                            \n",
      "                                                                 \n",
      " sequence_conv_out_1 (Conv2D  (None, 1140, 1, 2)       14        \n",
      " )                                                               \n",
      "                                                                 \n",
      " sequence_conv_out_2 (Conv2D  (None, 1140, 1, 2)       6         \n",
      " )                                                               \n",
      "                                                                 \n",
      " output_reshape (OutputResha  (None, 38, 30, 2)        0         \n",
      " pe)                                                             \n",
      "                                                                 \n",
      "=================================================================\n",
      "Total params: 3,119,306\n",
      "Trainable params: 0\n",
      "Non-trainable params: 3,119,306\n",
      "_________________________________________________________________\n"
     ]
    }
   ],
   "source": [
    "# Make test predictions\n",
    "\n",
    "test_ids = []\n",
    "test_prob = []\n",
    "test_y = []\n",
    "\n",
    "for s in test_studies:\n",
    "\n",
    "    pred_model = load_prediction_model_for_study(s, weight_file=pred_weights, args=args, hparams=hparams)\n",
    "\n",
    "    prob = predict_on_study(pred_model, s)\n",
    "    \n",
    "    test_ids.append(s.psg_file_path.split(\"\\\\\")[-1].replace(\".edf\",\"\"))\n",
    "    test_prob.append(prob.mean(axis=0))\n",
    "    test_y.append(s.y[...,1].flatten())\n",
    "    \n"
   ]
  },
  {
   "cell_type": "code",
   "execution_count": 23,
   "id": "b324b40d",
   "metadata": {},
   "outputs": [
    {
     "name": "stdout",
     "output_type": "stream",
     "text": [
      "Confusion matrix:\n",
      "[[45323  1371]\n",
      " [  821  3215]]\n",
      "F1-Score:\t0.7457666434701925\n",
      "Precision:\t0.7010466637592674\n",
      "Recall:\t\t0.7965807730426164\n"
     ]
    }
   ],
   "source": [
    "from sklearn.metrics import confusion_matrix, f1_score, recall_score, precision_score, cohen_kappa_score\n",
    "\n",
    "y_cat_prob = np.concatenate(test_prob)\n",
    "y_cat_true = np.concatenate(test_y)\n",
    "y_pred = y_cat_prob[:,1] >= thresholds[opt_idx]\n",
    "\n",
    "print(f\"Confusion matrix:\\n{confusion_matrix(y_cat_true, y_pred)}\")\n",
    "print(f\"F1-Score:\\t{f1_score(y_cat_true, y_pred)}\")\n",
    "print(f\"Precision:\\t{precision_score(y_cat_true, y_pred)}\")\n",
    "print(f\"Recall:\\t\\t{recall_score(y_cat_true, y_pred)}\")\n",
    "# print(f\"Cohen kappa:\\t{cohen_kappa_score(y_cat_true, y_pred):.3f}\")\n"
   ]
  },
  {
   "cell_type": "code",
   "execution_count": 24,
   "id": "24e4d7d7",
   "metadata": {},
   "outputs": [],
   "source": [
    "# Save results to be used in Matlab\n",
    "\n",
    "from scipy.io import savemat\n",
    "# Write predictions to file\n",
    "test_dict = {\"id\": test_ids,\n",
    "            \"probs\": test_prob,\n",
    "            \"yTrue\": test_y,\n",
    "            \"optThres\": thresholds[opt_idx]}\n",
    "\n",
    "# savemat(\"Matlab/transfer_learning_new.mat\", test_dict)\n"
   ]
  },
  {
   "attachments": {},
   "cell_type": "markdown",
   "id": "77ba22a1",
   "metadata": {},
   "source": [
    "# Debug architecture changes\n"
   ]
  },
  {
   "cell_type": "code",
   "execution_count": 25,
   "id": "c08c82bd",
   "metadata": {},
   "outputs": [],
   "source": [
    "\n",
    "# _base = get_and_load_one_shot_model(\n",
    "#             n_periods=35,\n",
    "#             project_dir=args.project_dir,\n",
    "#             hparams=hparams\n",
    "#             )\n",
    "# clear_output(wait=False)    # Removing glorot intitialization warning...\n",
    "\n",
    "# # Freeze base layers\n",
    "# _base.trainable = False\n",
    "\n",
    "# _base.layers[-5].trainable = True\n",
    "\n",
    "# # Extract base from pre-trained model (remove last )\n",
    "# _inter_base = Model(inputs=_base.input, outputs=_base.layers[-5].output, name=\"uSleep_base\")\n",
    "# _inter_out = _inter_base(inputs=_base.input, training=False)\n",
    "\n",
    "# # Create new head with base model as input with a 2-class problem\n",
    "# head=_base.create_seq_modeling(in_=_inter_out,\n",
    "#                             input_dims = _base.input_dims,\n",
    "#                             data_per_period=args.data_per_prediction,\n",
    "#                             n_periods=_base.n_periods,\n",
    "#                             n_classes=2,\n",
    "#                             transition_window=_base.transition_window,\n",
    "#                             activation=_base.activation,\n",
    "#                             regularizer=None)\n",
    "\n",
    "\n",
    "# _model = Model(inputs=_base.input, outputs = head, name = \"mU-Sleep\")\n",
    "\n",
    "# # _model.trainable = True  # In order to load weights\n",
    "# # _model.load_weights(pred_weights)\n",
    "# # _model.trainable = False\n",
    "    \n",
    "\n",
    "# print(f\"Input shape: {_model.input.shape}\")\n",
    "# print(f\"Output shape: {_model.output.shape}\")\n",
    "# print(f\"Model trainable: {_model.trainable}\")\n",
    "# _=[print(f\"\\t {x.name}: ({x.shape})\") for x in _model.trainable_weights]\n",
    "# _model.summary()\n"
   ]
  },
  {
   "cell_type": "markdown",
   "id": "8d0ece51",
   "metadata": {},
   "source": [
    "# Eval training data to check overfitting"
   ]
  },
  {
   "cell_type": "code",
   "execution_count": 28,
   "id": "3cc6aed1",
   "metadata": {},
   "outputs": [
    {
     "name": "stdout",
     "output_type": "stream",
     "text": [
      "Input shape: (None, 80, 3840, 2)\n",
      "Output shape: (None, 80, 30, 2)\n",
      "Model trainable: False\n",
      "Model: \"mU-Sleep\"\n",
      "_________________________________________________________________\n",
      " Layer (type)                Output Shape              Param #   \n",
      "=================================================================\n",
      " input_1 (InputLayer)        [(None, 80, 3840, 2)]     0         \n",
      "                                                                 \n",
      " uSleep_base (Functional)    (None, 307200, 1, 6)      3119286   \n",
      "                                                                 \n",
      " average_pool (AveragePoolin  (None, 2400, 1, 6)       0         \n",
      " g2D)                                                            \n",
      "                                                                 \n",
      " sequence_conv_out_1 (Conv2D  (None, 2400, 1, 2)       14        \n",
      " )                                                               \n",
      "                                                                 \n",
      " sequence_conv_out_2 (Conv2D  (None, 2400, 1, 2)       6         \n",
      " )                                                               \n",
      "                                                                 \n",
      " output_reshape (OutputResha  (None, 80, 30, 2)        0         \n",
      " pe)                                                             \n",
      "                                                                 \n",
      "=================================================================\n",
      "Total params: 3,119,306\n",
      "Trainable params: 0\n",
      "Non-trainable params: 3,119,306\n",
      "_________________________________________________________________\n"
     ]
    }
   ],
   "source": [
    "train_ids = []\n",
    "train_prob = []\n",
    "train_y = []\n",
    "\n",
    "for s in dev_studies:\n",
    "\n",
    "    pred_model = load_prediction_model_for_study(s, weight_file=pred_weights, args=args, hparams=hparams)\n",
    "\n",
    "    prob = predict_on_study(pred_model, s)\n",
    "    \n",
    "    train_ids.append(s.psg_file_path.split(\"\\\\\")[-1].replace(\".edf\",\"\"))\n",
    "    train_prob.append(prob.mean(axis=0))\n",
    "    train_y.append(s.y[...,1].flatten())"
   ]
  },
  {
   "cell_type": "code",
   "execution_count": 29,
   "id": "7f3c1b2c",
   "metadata": {},
   "outputs": [
    {
     "name": "stderr",
     "output_type": "stream",
     "text": [
      "c:\\Users\\Sindri\\anaconda3\\envs\\u-sleep\\lib\\site-packages\\scipy\\io\\matlab\\_mio5.py:493: VisibleDeprecationWarning: Creating an ndarray from ragged nested sequences (which is a list-or-tuple of lists-or-tuples-or ndarrays with different lengths or shapes) is deprecated. If you meant to do this, you must specify 'dtype=object' when creating the ndarray.\n",
      "  narr = np.asanyarray(source)\n"
     ]
    }
   ],
   "source": [
    "# Write predictions to file\n",
    "train_dict = {\"id\": train_ids,\n",
    "            \"probs\": train_prob,\n",
    "            \"yTrue\": train_y,\n",
    "            \"optThres\": thresholds[opt_idx]}\n",
    "\n",
    "savemat(\"Matlab/training_performance//transfer_learning_new.mat\", train_dict)"
   ]
  }
 ],
 "metadata": {
  "kernelspec": {
   "display_name": "u-sleep",
   "language": "python",
   "name": "python3"
  },
  "language_info": {
   "codemirror_mode": {
    "name": "ipython",
    "version": 3
   },
   "file_extension": ".py",
   "mimetype": "text/x-python",
   "name": "python",
   "nbconvert_exporter": "python",
   "pygments_lexer": "ipython3",
   "version": "3.10.4"
  },
  "vscode": {
   "interpreter": {
    "hash": "b326a74c38f5ca329da353a7a8d4a270f9d7f24d55ac336e460174c1364f5096"
   }
  }
 },
 "nbformat": 4,
 "nbformat_minor": 5
}
