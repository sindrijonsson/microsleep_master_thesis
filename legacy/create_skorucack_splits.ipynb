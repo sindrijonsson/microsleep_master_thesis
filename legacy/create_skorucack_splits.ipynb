{
 "cells": [
  {
   "cell_type": "code",
   "execution_count": 45,
   "id": "15d75c3f",
   "metadata": {},
   "outputs": [],
   "source": [
    "import json\n",
    "import numpy as np\n",
    "from pprint import pprint\n"
   ]
  },
  {
   "cell_type": "code",
   "execution_count": 2,
   "id": "c9e55ec5",
   "metadata": {},
   "outputs": [],
   "source": [
    "with open(\"bern_split.json\") as f:\n",
    "    splits = json.loads(f.read())"
   ]
  },
  {
   "cell_type": "code",
   "execution_count": 13,
   "id": "48139c21",
   "metadata": {},
   "outputs": [],
   "source": [
    "pats = np.concatenate([v for v in splits.values()],dtype=\"str\")"
   ]
  },
  {
   "cell_type": "code",
   "execution_count": 34,
   "id": "627579e5",
   "metadata": {},
   "outputs": [],
   "source": [
    "skorucack_test = np.array([\n",
    "    \"0pai\",\n",
    "    \"6JVj\",\n",
    "    \"40kO\",\n",
    "    \"DSfb\",\n",
    "    \"EyTS\",\n",
    "    \"hcml\",\n",
    "    \"hRMy\",\n",
    "    \"Kn9O\",\n",
    "    \"mBks\",\n",
    "    \"mZje\",\n",
    "    \"R2f3\",\n",
    "    \"Xii6\",\n",
    "    \"kj2l\",\n",
    "    \"3P0D\",\n",
    "    \"6iwd\",\n",
    "    \"BSvO\",\n",
    "    \"csxQ\",\n",
    "    \"ibbz\",\n",
    "    \"IhpU\",\n",
    "    \"N1nM\",\n",
    "    \"Otq3\",\n",
    "    \"tG6i\",\n",
    "    \"Xg1l\"    \n",
    "])"
   ]
  },
  {
   "cell_type": "code",
   "execution_count": 36,
   "id": "773367cf",
   "metadata": {},
   "outputs": [
    {
     "data": {
      "text/plain": [
       "True"
      ]
     },
     "execution_count": 36,
     "metadata": {},
     "output_type": "execute_result"
    }
   ],
   "source": [
    "is_in = [x in pats for x in skorucack_test]\n",
    "np.all(is_in)"
   ]
  },
  {
   "cell_type": "code",
   "execution_count": 43,
   "id": "d955ea19",
   "metadata": {},
   "outputs": [
    {
     "data": {
      "text/plain": [
       "53"
      ]
     },
     "execution_count": 43,
     "metadata": {},
     "output_type": "execute_result"
    }
   ],
   "source": [
    "dev_idx = np.array([x not in skorucack_test for x in pats])\n",
    "dev = pats[dev_idx]\n"
   ]
  },
  {
   "cell_type": "code",
   "execution_count": 49,
   "id": "facac300",
   "metadata": {},
   "outputs": [],
   "source": [
    "skorucack_splits = {\"train\": dev.tolist(),\n",
    "                   \"test\": skorucack_test.tolist()}\n",
    "\n",
    "with open(\"skorucack_splits.json\",\"w\") as f:\n",
    "    f.write(json.dumps(skorucack_splits))"
   ]
  }
 ],
 "metadata": {
  "kernelspec": {
   "display_name": "Python 3 (ipykernel)",
   "language": "python",
   "name": "python3"
  },
  "language_info": {
   "codemirror_mode": {
    "name": "ipython",
    "version": 3
   },
   "file_extension": ".py",
   "mimetype": "text/x-python",
   "name": "python",
   "nbconvert_exporter": "python",
   "pygments_lexer": "ipython3",
   "version": "3.9.5"
  }
 },
 "nbformat": 4,
 "nbformat_minor": 5
}
